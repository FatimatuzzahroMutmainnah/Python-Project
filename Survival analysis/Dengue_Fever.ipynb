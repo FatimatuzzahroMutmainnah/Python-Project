{
  "cells": [
    {
      "cell_type": "markdown",
      "metadata": {
        "id": "PnQmVWJp34nw"
      },
      "source": [
        "### Load libraries"
      ]
    },
    {
      "cell_type": "code",
      "source": [
        "from google.colab import drive\n",
        "drive.mount('/content/drive')"
      ],
      "metadata": {
        "colab": {
          "base_uri": "https://localhost:8080/"
        },
        "id": "I22kN-xS4LMk",
        "outputId": "92b3081d-4390-4a8b-b838-63e7eebc89ae"
      },
      "execution_count": 1,
      "outputs": [
        {
          "output_type": "stream",
          "name": "stdout",
          "text": [
            "Mounted at /content/drive\n"
          ]
        }
      ]
    },
    {
      "cell_type": "code",
      "execution_count": 2,
      "metadata": {
        "ExecuteTime": {
          "end_time": "2021-10-15T19:01:17.269505Z",
          "start_time": "2021-10-15T19:01:17.264518Z"
        },
        "colab": {
          "base_uri": "https://localhost:8080/"
        },
        "id": "vJ9X7OeN34n7",
        "outputId": "d21c11dd-61fd-4452-d51b-9ab6417236b6"
      },
      "outputs": [
        {
          "output_type": "stream",
          "name": "stdout",
          "text": [
            "Collecting lifelines\n",
            "  Downloading lifelines-0.27.8-py3-none-any.whl (350 kB)\n",
            "\u001b[2K     \u001b[90m━━━━━━━━━━━━━━━━━━━━━━━━━━━━━━━━━━━━━━━━\u001b[0m \u001b[32m350.7/350.7 kB\u001b[0m \u001b[31m6.3 MB/s\u001b[0m eta \u001b[36m0:00:00\u001b[0m\n",
            "\u001b[?25hRequirement already satisfied: numpy<2.0,>=1.14.0 in /usr/local/lib/python3.10/dist-packages (from lifelines) (1.23.5)\n",
            "Requirement already satisfied: scipy>=1.2.0 in /usr/local/lib/python3.10/dist-packages (from lifelines) (1.11.3)\n",
            "Requirement already satisfied: pandas>=1.0.0 in /usr/local/lib/python3.10/dist-packages (from lifelines) (1.5.3)\n",
            "Requirement already satisfied: matplotlib>=3.0 in /usr/local/lib/python3.10/dist-packages (from lifelines) (3.7.1)\n",
            "Requirement already satisfied: autograd>=1.5 in /usr/local/lib/python3.10/dist-packages (from lifelines) (1.6.2)\n",
            "Collecting autograd-gamma>=0.3 (from lifelines)\n",
            "  Downloading autograd-gamma-0.5.0.tar.gz (4.0 kB)\n",
            "  Preparing metadata (setup.py) ... \u001b[?25l\u001b[?25hdone\n",
            "Collecting formulaic>=0.2.2 (from lifelines)\n",
            "  Downloading formulaic-0.6.6-py3-none-any.whl (91 kB)\n",
            "\u001b[2K     \u001b[90m━━━━━━━━━━━━━━━━━━━━━━━━━━━━━━━━━━━━━━━━\u001b[0m \u001b[32m91.0/91.0 kB\u001b[0m \u001b[31m10.2 MB/s\u001b[0m eta \u001b[36m0:00:00\u001b[0m\n",
            "\u001b[?25hRequirement already satisfied: future>=0.15.2 in /usr/local/lib/python3.10/dist-packages (from autograd>=1.5->lifelines) (0.18.3)\n",
            "Collecting astor>=0.8 (from formulaic>=0.2.2->lifelines)\n",
            "  Downloading astor-0.8.1-py2.py3-none-any.whl (27 kB)\n",
            "Collecting interface-meta>=1.2.0 (from formulaic>=0.2.2->lifelines)\n",
            "  Downloading interface_meta-1.3.0-py3-none-any.whl (14 kB)\n",
            "Requirement already satisfied: typing-extensions>=4.2.0 in /usr/local/lib/python3.10/dist-packages (from formulaic>=0.2.2->lifelines) (4.5.0)\n",
            "Requirement already satisfied: wrapt>=1.0 in /usr/local/lib/python3.10/dist-packages (from formulaic>=0.2.2->lifelines) (1.14.1)\n",
            "Requirement already satisfied: contourpy>=1.0.1 in /usr/local/lib/python3.10/dist-packages (from matplotlib>=3.0->lifelines) (1.2.0)\n",
            "Requirement already satisfied: cycler>=0.10 in /usr/local/lib/python3.10/dist-packages (from matplotlib>=3.0->lifelines) (0.12.1)\n",
            "Requirement already satisfied: fonttools>=4.22.0 in /usr/local/lib/python3.10/dist-packages (from matplotlib>=3.0->lifelines) (4.44.3)\n",
            "Requirement already satisfied: kiwisolver>=1.0.1 in /usr/local/lib/python3.10/dist-packages (from matplotlib>=3.0->lifelines) (1.4.5)\n",
            "Requirement already satisfied: packaging>=20.0 in /usr/local/lib/python3.10/dist-packages (from matplotlib>=3.0->lifelines) (23.2)\n",
            "Requirement already satisfied: pillow>=6.2.0 in /usr/local/lib/python3.10/dist-packages (from matplotlib>=3.0->lifelines) (9.4.0)\n",
            "Requirement already satisfied: pyparsing>=2.3.1 in /usr/local/lib/python3.10/dist-packages (from matplotlib>=3.0->lifelines) (3.1.1)\n",
            "Requirement already satisfied: python-dateutil>=2.7 in /usr/local/lib/python3.10/dist-packages (from matplotlib>=3.0->lifelines) (2.8.2)\n",
            "Requirement already satisfied: pytz>=2020.1 in /usr/local/lib/python3.10/dist-packages (from pandas>=1.0.0->lifelines) (2023.3.post1)\n",
            "Requirement already satisfied: six>=1.5 in /usr/local/lib/python3.10/dist-packages (from python-dateutil>=2.7->matplotlib>=3.0->lifelines) (1.16.0)\n",
            "Building wheels for collected packages: autograd-gamma\n",
            "  Building wheel for autograd-gamma (setup.py) ... \u001b[?25l\u001b[?25hdone\n",
            "  Created wheel for autograd-gamma: filename=autograd_gamma-0.5.0-py3-none-any.whl size=4030 sha256=914d0d5ea31524da82602c0bcd658494614b95fdd3f5bbc4015d1d27674bd7fe\n",
            "  Stored in directory: /root/.cache/pip/wheels/25/cc/e0/ef2969164144c899fedb22b338f6703e2b9cf46eeebf254991\n",
            "Successfully built autograd-gamma\n",
            "Installing collected packages: interface-meta, astor, autograd-gamma, formulaic, lifelines\n",
            "Successfully installed astor-0.8.1 autograd-gamma-0.5.0 formulaic-0.6.6 interface-meta-1.3.0 lifelines-0.27.8\n"
          ]
        }
      ],
      "source": [
        "import numpy as np\n",
        "import pandas as pd\n",
        "\n",
        "!pip install lifelines\n",
        "\n",
        "from lifelines import KaplanMeierFitter\n",
        "from lifelines import CoxPHFitter\n",
        "import matplotlib.pyplot as plt"
      ]
    },
    {
      "cell_type": "markdown",
      "metadata": {
        "id": "o3uXRwI034n-"
      },
      "source": [
        "### Data Source\n",
        "\n",
        "Loprinzi CL. Laurie JA. Wieand HS. Krook JE. Novotny PJ. Kugler JW. Bartel J. Law M. Bateman M. Klatt NE. et al. Prospective evaluation of prognostic variables from patient-completed questionnaires. North Central Cancer Treatment Group. Journal of Clinical Oncology. 12(3):601-7, 1994."
      ]
    },
    {
      "cell_type": "code",
      "execution_count": 6,
      "metadata": {
        "ExecuteTime": {
          "end_time": "2021-10-15T19:01:17.832632Z",
          "start_time": "2021-10-15T19:01:17.810702Z"
        },
        "colab": {
          "base_uri": "https://localhost:8080/",
          "height": 206
        },
        "id": "BzAghPSU34n_",
        "outputId": "03025929-22b9-41b2-c232-9a3d3a40b612"
      },
      "outputs": [
        {
          "output_type": "execute_result",
          "data": {
            "text/plain": [
              "   SURVIVAL TIME  GENDER  AGE  THROMBOCYTES  HEMATOCRIT  HEMOGLOBIN  \\\n",
              "0              3       2    6         24000        50.1        16.4   \n",
              "1              4       2   19        121000        43.1        14.5   \n",
              "2              2       1   36         36000        48.5        17.3   \n",
              "3              2       2    9         50000        39.5        13.3   \n",
              "4              3       1   23        103000        44.1        15.3   \n",
              "\n",
              "   LEUKOCYTES  \n",
              "0        6410  \n",
              "1        5610  \n",
              "2        4540  \n",
              "3        2860  \n",
              "4        3210  "
            ],
            "text/html": [
              "\n",
              "  <div id=\"df-ba13a69d-626d-46f7-8f79-56045cc17d25\" class=\"colab-df-container\">\n",
              "    <div>\n",
              "<style scoped>\n",
              "    .dataframe tbody tr th:only-of-type {\n",
              "        vertical-align: middle;\n",
              "    }\n",
              "\n",
              "    .dataframe tbody tr th {\n",
              "        vertical-align: top;\n",
              "    }\n",
              "\n",
              "    .dataframe thead th {\n",
              "        text-align: right;\n",
              "    }\n",
              "</style>\n",
              "<table border=\"1\" class=\"dataframe\">\n",
              "  <thead>\n",
              "    <tr style=\"text-align: right;\">\n",
              "      <th></th>\n",
              "      <th>SURVIVAL TIME</th>\n",
              "      <th>GENDER</th>\n",
              "      <th>AGE</th>\n",
              "      <th>THROMBOCYTES</th>\n",
              "      <th>HEMATOCRIT</th>\n",
              "      <th>HEMOGLOBIN</th>\n",
              "      <th>LEUKOCYTES</th>\n",
              "    </tr>\n",
              "  </thead>\n",
              "  <tbody>\n",
              "    <tr>\n",
              "      <th>0</th>\n",
              "      <td>3</td>\n",
              "      <td>2</td>\n",
              "      <td>6</td>\n",
              "      <td>24000</td>\n",
              "      <td>50.1</td>\n",
              "      <td>16.4</td>\n",
              "      <td>6410</td>\n",
              "    </tr>\n",
              "    <tr>\n",
              "      <th>1</th>\n",
              "      <td>4</td>\n",
              "      <td>2</td>\n",
              "      <td>19</td>\n",
              "      <td>121000</td>\n",
              "      <td>43.1</td>\n",
              "      <td>14.5</td>\n",
              "      <td>5610</td>\n",
              "    </tr>\n",
              "    <tr>\n",
              "      <th>2</th>\n",
              "      <td>2</td>\n",
              "      <td>1</td>\n",
              "      <td>36</td>\n",
              "      <td>36000</td>\n",
              "      <td>48.5</td>\n",
              "      <td>17.3</td>\n",
              "      <td>4540</td>\n",
              "    </tr>\n",
              "    <tr>\n",
              "      <th>3</th>\n",
              "      <td>2</td>\n",
              "      <td>2</td>\n",
              "      <td>9</td>\n",
              "      <td>50000</td>\n",
              "      <td>39.5</td>\n",
              "      <td>13.3</td>\n",
              "      <td>2860</td>\n",
              "    </tr>\n",
              "    <tr>\n",
              "      <th>4</th>\n",
              "      <td>3</td>\n",
              "      <td>1</td>\n",
              "      <td>23</td>\n",
              "      <td>103000</td>\n",
              "      <td>44.1</td>\n",
              "      <td>15.3</td>\n",
              "      <td>3210</td>\n",
              "    </tr>\n",
              "  </tbody>\n",
              "</table>\n",
              "</div>\n",
              "    <div class=\"colab-df-buttons\">\n",
              "\n",
              "  <div class=\"colab-df-container\">\n",
              "    <button class=\"colab-df-convert\" onclick=\"convertToInteractive('df-ba13a69d-626d-46f7-8f79-56045cc17d25')\"\n",
              "            title=\"Convert this dataframe to an interactive table.\"\n",
              "            style=\"display:none;\">\n",
              "\n",
              "  <svg xmlns=\"http://www.w3.org/2000/svg\" height=\"24px\" viewBox=\"0 -960 960 960\">\n",
              "    <path d=\"M120-120v-720h720v720H120Zm60-500h600v-160H180v160Zm220 220h160v-160H400v160Zm0 220h160v-160H400v160ZM180-400h160v-160H180v160Zm440 0h160v-160H620v160ZM180-180h160v-160H180v160Zm440 0h160v-160H620v160Z\"/>\n",
              "  </svg>\n",
              "    </button>\n",
              "\n",
              "  <style>\n",
              "    .colab-df-container {\n",
              "      display:flex;\n",
              "      gap: 12px;\n",
              "    }\n",
              "\n",
              "    .colab-df-convert {\n",
              "      background-color: #E8F0FE;\n",
              "      border: none;\n",
              "      border-radius: 50%;\n",
              "      cursor: pointer;\n",
              "      display: none;\n",
              "      fill: #1967D2;\n",
              "      height: 32px;\n",
              "      padding: 0 0 0 0;\n",
              "      width: 32px;\n",
              "    }\n",
              "\n",
              "    .colab-df-convert:hover {\n",
              "      background-color: #E2EBFA;\n",
              "      box-shadow: 0px 1px 2px rgba(60, 64, 67, 0.3), 0px 1px 3px 1px rgba(60, 64, 67, 0.15);\n",
              "      fill: #174EA6;\n",
              "    }\n",
              "\n",
              "    .colab-df-buttons div {\n",
              "      margin-bottom: 4px;\n",
              "    }\n",
              "\n",
              "    [theme=dark] .colab-df-convert {\n",
              "      background-color: #3B4455;\n",
              "      fill: #D2E3FC;\n",
              "    }\n",
              "\n",
              "    [theme=dark] .colab-df-convert:hover {\n",
              "      background-color: #434B5C;\n",
              "      box-shadow: 0px 1px 3px 1px rgba(0, 0, 0, 0.15);\n",
              "      filter: drop-shadow(0px 1px 2px rgba(0, 0, 0, 0.3));\n",
              "      fill: #FFFFFF;\n",
              "    }\n",
              "  </style>\n",
              "\n",
              "    <script>\n",
              "      const buttonEl =\n",
              "        document.querySelector('#df-ba13a69d-626d-46f7-8f79-56045cc17d25 button.colab-df-convert');\n",
              "      buttonEl.style.display =\n",
              "        google.colab.kernel.accessAllowed ? 'block' : 'none';\n",
              "\n",
              "      async function convertToInteractive(key) {\n",
              "        const element = document.querySelector('#df-ba13a69d-626d-46f7-8f79-56045cc17d25');\n",
              "        const dataTable =\n",
              "          await google.colab.kernel.invokeFunction('convertToInteractive',\n",
              "                                                    [key], {});\n",
              "        if (!dataTable) return;\n",
              "\n",
              "        const docLinkHtml = 'Like what you see? Visit the ' +\n",
              "          '<a target=\"_blank\" href=https://colab.research.google.com/notebooks/data_table.ipynb>data table notebook</a>'\n",
              "          + ' to learn more about interactive tables.';\n",
              "        element.innerHTML = '';\n",
              "        dataTable['output_type'] = 'display_data';\n",
              "        await google.colab.output.renderOutput(dataTable, element);\n",
              "        const docLink = document.createElement('div');\n",
              "        docLink.innerHTML = docLinkHtml;\n",
              "        element.appendChild(docLink);\n",
              "      }\n",
              "    </script>\n",
              "  </div>\n",
              "\n",
              "\n",
              "<div id=\"df-3fd6924c-6867-4bba-93c9-072ce50cc6c5\">\n",
              "  <button class=\"colab-df-quickchart\" onclick=\"quickchart('df-3fd6924c-6867-4bba-93c9-072ce50cc6c5')\"\n",
              "            title=\"Suggest charts\"\n",
              "            style=\"display:none;\">\n",
              "\n",
              "<svg xmlns=\"http://www.w3.org/2000/svg\" height=\"24px\"viewBox=\"0 0 24 24\"\n",
              "     width=\"24px\">\n",
              "    <g>\n",
              "        <path d=\"M19 3H5c-1.1 0-2 .9-2 2v14c0 1.1.9 2 2 2h14c1.1 0 2-.9 2-2V5c0-1.1-.9-2-2-2zM9 17H7v-7h2v7zm4 0h-2V7h2v10zm4 0h-2v-4h2v4z\"/>\n",
              "    </g>\n",
              "</svg>\n",
              "  </button>\n",
              "\n",
              "<style>\n",
              "  .colab-df-quickchart {\n",
              "      --bg-color: #E8F0FE;\n",
              "      --fill-color: #1967D2;\n",
              "      --hover-bg-color: #E2EBFA;\n",
              "      --hover-fill-color: #174EA6;\n",
              "      --disabled-fill-color: #AAA;\n",
              "      --disabled-bg-color: #DDD;\n",
              "  }\n",
              "\n",
              "  [theme=dark] .colab-df-quickchart {\n",
              "      --bg-color: #3B4455;\n",
              "      --fill-color: #D2E3FC;\n",
              "      --hover-bg-color: #434B5C;\n",
              "      --hover-fill-color: #FFFFFF;\n",
              "      --disabled-bg-color: #3B4455;\n",
              "      --disabled-fill-color: #666;\n",
              "  }\n",
              "\n",
              "  .colab-df-quickchart {\n",
              "    background-color: var(--bg-color);\n",
              "    border: none;\n",
              "    border-radius: 50%;\n",
              "    cursor: pointer;\n",
              "    display: none;\n",
              "    fill: var(--fill-color);\n",
              "    height: 32px;\n",
              "    padding: 0;\n",
              "    width: 32px;\n",
              "  }\n",
              "\n",
              "  .colab-df-quickchart:hover {\n",
              "    background-color: var(--hover-bg-color);\n",
              "    box-shadow: 0 1px 2px rgba(60, 64, 67, 0.3), 0 1px 3px 1px rgba(60, 64, 67, 0.15);\n",
              "    fill: var(--button-hover-fill-color);\n",
              "  }\n",
              "\n",
              "  .colab-df-quickchart-complete:disabled,\n",
              "  .colab-df-quickchart-complete:disabled:hover {\n",
              "    background-color: var(--disabled-bg-color);\n",
              "    fill: var(--disabled-fill-color);\n",
              "    box-shadow: none;\n",
              "  }\n",
              "\n",
              "  .colab-df-spinner {\n",
              "    border: 2px solid var(--fill-color);\n",
              "    border-color: transparent;\n",
              "    border-bottom-color: var(--fill-color);\n",
              "    animation:\n",
              "      spin 1s steps(1) infinite;\n",
              "  }\n",
              "\n",
              "  @keyframes spin {\n",
              "    0% {\n",
              "      border-color: transparent;\n",
              "      border-bottom-color: var(--fill-color);\n",
              "      border-left-color: var(--fill-color);\n",
              "    }\n",
              "    20% {\n",
              "      border-color: transparent;\n",
              "      border-left-color: var(--fill-color);\n",
              "      border-top-color: var(--fill-color);\n",
              "    }\n",
              "    30% {\n",
              "      border-color: transparent;\n",
              "      border-left-color: var(--fill-color);\n",
              "      border-top-color: var(--fill-color);\n",
              "      border-right-color: var(--fill-color);\n",
              "    }\n",
              "    40% {\n",
              "      border-color: transparent;\n",
              "      border-right-color: var(--fill-color);\n",
              "      border-top-color: var(--fill-color);\n",
              "    }\n",
              "    60% {\n",
              "      border-color: transparent;\n",
              "      border-right-color: var(--fill-color);\n",
              "    }\n",
              "    80% {\n",
              "      border-color: transparent;\n",
              "      border-right-color: var(--fill-color);\n",
              "      border-bottom-color: var(--fill-color);\n",
              "    }\n",
              "    90% {\n",
              "      border-color: transparent;\n",
              "      border-bottom-color: var(--fill-color);\n",
              "    }\n",
              "  }\n",
              "</style>\n",
              "\n",
              "  <script>\n",
              "    async function quickchart(key) {\n",
              "      const quickchartButtonEl =\n",
              "        document.querySelector('#' + key + ' button');\n",
              "      quickchartButtonEl.disabled = true;  // To prevent multiple clicks.\n",
              "      quickchartButtonEl.classList.add('colab-df-spinner');\n",
              "      try {\n",
              "        const charts = await google.colab.kernel.invokeFunction(\n",
              "            'suggestCharts', [key], {});\n",
              "      } catch (error) {\n",
              "        console.error('Error during call to suggestCharts:', error);\n",
              "      }\n",
              "      quickchartButtonEl.classList.remove('colab-df-spinner');\n",
              "      quickchartButtonEl.classList.add('colab-df-quickchart-complete');\n",
              "    }\n",
              "    (() => {\n",
              "      let quickchartButtonEl =\n",
              "        document.querySelector('#df-3fd6924c-6867-4bba-93c9-072ce50cc6c5 button');\n",
              "      quickchartButtonEl.style.display =\n",
              "        google.colab.kernel.accessAllowed ? 'block' : 'none';\n",
              "    })();\n",
              "  </script>\n",
              "</div>\n",
              "    </div>\n",
              "  </div>\n"
            ]
          },
          "metadata": {},
          "execution_count": 6
        }
      ],
      "source": [
        "data = pd.read_excel(\"/content/drive/MyDrive/Bahan port/Survival Analysis/Survival Analisys.xlsx\")\n",
        "data.head()"
      ]
    },
    {
      "cell_type": "code",
      "execution_count": 7,
      "metadata": {
        "ExecuteTime": {
          "end_time": "2021-10-15T19:01:17.998880Z",
          "start_time": "2021-10-15T19:01:17.991931Z"
        },
        "colab": {
          "base_uri": "https://localhost:8080/"
        },
        "id": "xRtfXY5U34oE",
        "outputId": "772a0e82-9bca-4da1-e8d8-a87317802f7f"
      },
      "outputs": [
        {
          "output_type": "execute_result",
          "data": {
            "text/plain": [
              "(200, 7)"
            ]
          },
          "metadata": {},
          "execution_count": 7
        }
      ],
      "source": [
        "data.shape"
      ]
    },
    {
      "cell_type": "code",
      "execution_count": 10,
      "metadata": {
        "ExecuteTime": {
          "end_time": "2021-10-15T19:02:09.363045Z",
          "start_time": "2021-10-15T19:02:09.355065Z"
        },
        "colab": {
          "base_uri": "https://localhost:8080/"
        },
        "id": "1D5YRjSc34oK",
        "outputId": "0472012f-5de6-4546-f5bb-86c795a2e1f0"
      },
      "outputs": [
        {
          "output_type": "execute_result",
          "data": {
            "text/plain": [
              "SURVIVAL TIME      int64\n",
              "GENDER             int64\n",
              "AGE                int64\n",
              "THROMBOCYTES       int64\n",
              "HEMATOCRIT       float64\n",
              "HEMOGLOBIN       float64\n",
              "LEUKOCYTES         int64\n",
              "dtype: object"
            ]
          },
          "metadata": {},
          "execution_count": 10
        }
      ],
      "source": [
        "data.dtypes"
      ]
    },
    {
      "cell_type": "code",
      "execution_count": 11,
      "metadata": {
        "ExecuteTime": {
          "end_time": "2021-10-15T19:02:27.113571Z",
          "start_time": "2021-10-15T19:02:27.103598Z"
        },
        "colab": {
          "base_uri": "https://localhost:8080/"
        },
        "id": "SB2yN8sb34oL",
        "outputId": "5a7bec79-4a5c-4743-e63a-c0df588151e0"
      },
      "outputs": [
        {
          "output_type": "execute_result",
          "data": {
            "text/plain": [
              "SURVIVAL TIME    0\n",
              "GENDER           0\n",
              "AGE              0\n",
              "THROMBOCYTES     0\n",
              "HEMATOCRIT       0\n",
              "HEMOGLOBIN       0\n",
              "LEUKOCYTES       0\n",
              "dtype: int64"
            ]
          },
          "metadata": {},
          "execution_count": 11
        }
      ],
      "source": [
        "data.isnull().sum()"
      ]
    },
    {
      "cell_type": "code",
      "execution_count": 12,
      "metadata": {
        "ExecuteTime": {
          "end_time": "2021-10-15T19:02:43.044544Z",
          "start_time": "2021-10-15T19:02:43.039545Z"
        },
        "colab": {
          "base_uri": "https://localhost:8080/"
        },
        "id": "EJjzPfFw34oM",
        "outputId": "9569ce09-a93c-494a-b9df-44bb9b8c2652"
      },
      "outputs": [
        {
          "output_type": "execute_result",
          "data": {
            "text/plain": [
              "Index(['SURVIVAL TIME', 'GENDER', 'AGE', 'THROMBOCYTES', 'HEMATOCRIT',\n",
              "       'HEMOGLOBIN', 'LEUKOCYTES'],\n",
              "      dtype='object')"
            ]
          },
          "metadata": {},
          "execution_count": 12
        }
      ],
      "source": [
        "data.columns"
      ]
    },
    {
      "cell_type": "code",
      "execution_count": 13,
      "metadata": {
        "ExecuteTime": {
          "end_time": "2021-10-15T19:04:52.117273Z",
          "start_time": "2021-10-15T19:04:51.888484Z"
        },
        "colab": {
          "base_uri": "https://localhost:8080/",
          "height": 430
        },
        "id": "r7Kb5reZ34oT",
        "outputId": "f02ad3ce-332e-4973-db2b-792c38573254"
      },
      "outputs": [
        {
          "output_type": "display_data",
          "data": {
            "text/plain": [
              "<Figure size 640x480 with 1 Axes>"
            ],
            "image/png": "[encoded data removed]"
          },
          "metadata": {}
        }
      ],
      "source": [
        "T = data[\"SURVIVAL TIME\"]\n",
        "\n",
        "plt.hist(T, bins = 50)\n",
        "plt.show()"
      ]
    },
    {
      "cell_type": "markdown",
      "metadata": {
        "id": "bzau_8su34oV"
      },
      "source": [
        "## Fitting a non-parametric model [Kaplan Meier Curve]"
      ]
    },
    {
      "cell_type": "code",
      "execution_count": 14,
      "metadata": {
        "ExecuteTime": {
          "end_time": "2021-10-15T19:06:05.869779Z",
          "start_time": "2021-10-15T19:06:05.671803Z"
        },
        "colab": {
          "base_uri": "https://localhost:8080/",
          "height": 466
        },
        "id": "9famqG9534oW",
        "outputId": "85f4aae7-44e6-48d5-e1ce-aeddef605e92"
      },
      "outputs": [
        {
          "output_type": "execute_result",
          "data": {
            "text/plain": [
              "<Axes: xlabel='timeline'>"
            ]
          },
          "metadata": {},
          "execution_count": 14
        },
        {
          "output_type": "display_data",
          "data": {
            "text/plain": [
              "<Figure size 640x480 with 1 Axes>"
            ],
            "image/png": "[encoded data removed]"
          },
          "metadata": {}
        }
      ],
      "source": [
        "kmf = KaplanMeierFitter()\n",
        "kmf.fit(durations = T)\n",
        "kmf.plot_survival_function()"
      ]
    },
    {
      "cell_type": "code",
      "execution_count": 15,
      "metadata": {
        "ExecuteTime": {
          "end_time": "2021-10-15T19:06:56.825511Z",
          "start_time": "2021-10-15T19:06:56.647962Z"
        },
        "colab": {
          "base_uri": "https://localhost:8080/",
          "height": 489
        },
        "id": "hL4ec5C734oX",
        "outputId": "397eb306-3354-4a27-cb9e-f905d87199de"
      },
      "outputs": [
        {
          "output_type": "execute_result",
          "data": {
            "text/plain": [
              "Text(0.5, 1.0, 'Survival function')"
            ]
          },
          "metadata": {},
          "execution_count": 15
        },
        {
          "output_type": "display_data",
          "data": {
            "text/plain": [
              "<Figure size 640x480 with 1 Axes>"
            ],
            "image/png": "[encoded data removed]"
          },
          "metadata": {}
        }
      ],
      "source": [
        "kmf.survival_function_.plot()\n",
        "plt.title('Survival function')"
      ]
    },
    {
      "cell_type": "code",
      "execution_count": 16,
      "metadata": {
        "ExecuteTime": {
          "end_time": "2021-10-15T19:07:05.859075Z",
          "start_time": "2021-10-15T19:07:05.678081Z"
        },
        "colab": {
          "base_uri": "https://localhost:8080/",
          "height": 466
        },
        "id": "1tTakJke34oY",
        "outputId": "948e0765-90d9-4b06-d07d-dc1fccd09fc1"
      },
      "outputs": [
        {
          "output_type": "execute_result",
          "data": {
            "text/plain": [
              "<Axes: xlabel='timeline'>"
            ]
          },
          "metadata": {},
          "execution_count": 16
        },
        {
          "output_type": "display_data",
          "data": {
            "text/plain": [
              "<Figure size 640x480 with 1 Axes>"
            ],
            "image/png": "[encoded data removed]"
          },
          "metadata": {}
        }
      ],
      "source": [
        "kmf.plot_cumulative_density()"
      ]
    },
    {
      "cell_type": "code",
      "execution_count": 17,
      "metadata": {
        "ExecuteTime": {
          "end_time": "2021-10-15T19:07:48.877318Z",
          "start_time": "2021-10-15T19:07:48.871329Z"
        },
        "colab": {
          "base_uri": "https://localhost:8080/"
        },
        "id": "9xUosHNd34oZ",
        "outputId": "6fa225c5-e128-4018-86d5-37e493a1d13c"
      },
      "outputs": [
        {
          "output_type": "execute_result",
          "data": {
            "text/plain": [
              "3.0"
            ]
          },
          "metadata": {},
          "execution_count": 17
        }
      ],
      "source": [
        "kmf.median_survival_time_"
      ]
    },
    {
      "cell_type": "code",
      "execution_count": 18,
      "metadata": {
        "ExecuteTime": {
          "end_time": "2021-10-15T19:08:19.209757Z",
          "start_time": "2021-10-15T19:08:19.198728Z"
        },
        "colab": {
          "base_uri": "https://localhost:8080/"
        },
        "id": "CaYyDtXZ34oa",
        "outputId": "2e08971b-dcc6-4cbc-939c-6ae7c8bbbbd9"
      },
      "outputs": [
        {
          "output_type": "stream",
          "name": "stdout",
          "text": [
            "3.0\n",
            "     KM_estimate_lower_0.95  KM_estimate_upper_0.95\n",
            "0.5                     3.0                     3.0\n"
          ]
        }
      ],
      "source": [
        "from lifelines.utils import median_survival_times\n",
        "\n",
        "median_ = kmf.median_survival_time_\n",
        "median_confidence_interval_ = median_survival_times(kmf.confidence_interval_)\n",
        "print(median_)\n",
        "print(median_confidence_interval_)"
      ]
    },
    {
      "cell_type": "code",
      "execution_count": 21,
      "metadata": {
        "ExecuteTime": {
          "end_time": "2021-10-15T19:11:16.330765Z",
          "start_time": "2021-10-15T19:11:15.942799Z"
        },
        "colab": {
          "base_uri": "https://localhost:8080/",
          "height": 515
        },
        "id": "xU1ReZ0S34ob",
        "outputId": "7d2f67bd-9ad4-4322-8320-b0c4a5701710"
      },
      "outputs": [
        {
          "output_type": "execute_result",
          "data": {
            "text/plain": [
              "Text(0.5, 1.0, 'Survival of different gender group')"
            ]
          },
          "metadata": {},
          "execution_count": 21
        },
        {
          "output_type": "display_data",
          "data": {
            "text/plain": [
              "<Figure size 640x480 with 2 Axes>"
            ],
            "image/png": "[encoded data removed]"
          },
          "metadata": {}
        }
      ],
      "source": [
        "ax = plt.subplot(111)\n",
        "\n",
        "m = (data[\"GENDER\"] == 1)\n",
        "\n",
        "kmf.fit(durations = T[m], label = \"Male\")\n",
        "kmf.plot_survival_function(ax = ax)\n",
        "\n",
        "kmf.fit(T[~m], label = \"Female\")\n",
        "kmf.plot_survival_function(ax = ax, at_risk_counts = True)\n",
        "\n",
        "plt.title(\"Survival of different gender group\")"
      ]
    },
    {
      "cell_type": "markdown",
      "metadata": {
        "id": "7kGjPdD534og"
      },
      "source": [
        "## Fitting Cox Proportional Hazard Model"
      ]
    },
    {
      "cell_type": "markdown",
      "metadata": {
        "id": "YKqPJO0x34og"
      },
      "source": [
        "The Cox proportional hazards model, by contrast, is not a fully parametric model. Rather it is a semi-parametric model because even if the regression parameters (the betas) are known, the distribution of the outcome remains unknown."
      ]
    },
    {
      "cell_type": "markdown",
      "metadata": {
        "id": "HDbRnnlz34oh"
      },
      "source": [
        "[Cox Proportional Hazard Model (lifelines webpage)](https://lifelines.readthedocs.io/en/latest/Survival%20Regression.html)"
      ]
    },
    {
      "cell_type": "markdown",
      "metadata": {
        "id": "u8O_qxWp34oi"
      },
      "source": [
        "Cox proportional hazards regression model assumptions includes:\n",
        "\n",
        "* Independence of survival times between distinct individuals in the sample,\n",
        "* A multiplicative relationship between the predictors and the hazard, and\n",
        "* A constant hazard ratio over time. This assumption implies that, the hazard curves for the groups should be proportional and cannot cross."
      ]
    },
    {
      "cell_type": "markdown",
      "metadata": {
        "id": "siXL5v5h34oi"
      },
      "source": [
        "### Hazard and Hazard Ratio"
      ]
    },
    {
      "cell_type": "markdown",
      "metadata": {
        "ExecuteTime": {
          "end_time": "2021-10-15T12:38:06.591881Z",
          "start_time": "2021-10-15T12:38:06.582859Z"
        },
        "id": "tnDByoyj34ol"
      },
      "source": [
        "* Hazard is defined as the slope of the survival curve — a measure of how rapidly subjects are dying.\n",
        "* The hazard ratio compares two treatments. If the hazard ratio is 2.0, then the rate of deaths in one treatment group is twice the rate in the other group."
      ]
    },
    {
      "cell_type": "code",
      "execution_count": 22,
      "metadata": {
        "ExecuteTime": {
          "end_time": "2021-10-15T19:17:18.206030Z",
          "start_time": "2021-10-15T19:17:18.190764Z"
        },
        "colab": {
          "base_uri": "https://localhost:8080/",
          "height": 206
        },
        "id": "B5TLJYBL34on",
        "outputId": "79487eba-4018-497a-f398-24c757f25c1a"
      },
      "outputs": [
        {
          "output_type": "execute_result",
          "data": {
            "text/plain": [
              "   SURVIVAL TIME  GENDER  AGE  THROMBOCYTES  HEMATOCRIT  HEMOGLOBIN  \\\n",
              "0              3       2    6         24000        50.1        16.4   \n",
              "1              4       2   19        121000        43.1        14.5   \n",
              "2              2       1   36         36000        48.5        17.3   \n",
              "3              2       2    9         50000        39.5        13.3   \n",
              "4              3       1   23        103000        44.1        15.3   \n",
              "\n",
              "   LEUKOCYTES  \n",
              "0        6410  \n",
              "1        5610  \n",
              "2        4540  \n",
              "3        2860  \n",
              "4        3210  "
            ],
            "text/html": [
              "\n",
              "  <div id=\"df-ecf0db58-4dc7-4d89-a34a-57a96a61b6c1\" class=\"colab-df-container\">\n",
              "    <div>\n",
              "<style scoped>\n",
              "    .dataframe tbody tr th:only-of-type {\n",
              "        vertical-align: middle;\n",
              "    }\n",
              "\n",
              "    .dataframe tbody tr th {\n",
              "        vertical-align: top;\n",
              "    }\n",
              "\n",
              "    .dataframe thead th {\n",
              "        text-align: right;\n",
              "    }\n",
              "</style>\n",
              "<table border=\"1\" class=\"dataframe\">\n",
              "  <thead>\n",
              "    <tr style=\"text-align: right;\">\n",
              "      <th></th>\n",
              "      <th>SURVIVAL TIME</th>\n",
              "      <th>GENDER</th>\n",
              "      <th>AGE</th>\n",
              "      <th>THROMBOCYTES</th>\n",
              "      <th>HEMATOCRIT</th>\n",
              "      <th>HEMOGLOBIN</th>\n",
              "      <th>LEUKOCYTES</th>\n",
              "    </tr>\n",
              "  </thead>\n",
              "  <tbody>\n",
              "    <tr>\n",
              "      <th>0</th>\n",
              "      <td>3</td>\n",
              "      <td>2</td>\n",
              "      <td>6</td>\n",
              "      <td>24000</td>\n",
              "      <td>50.1</td>\n",
              "      <td>16.4</td>\n",
              "      <td>6410</td>\n",
              "    </tr>\n",
              "    <tr>\n",
              "      <th>1</th>\n",
              "      <td>4</td>\n",
              "      <td>2</td>\n",
              "      <td>19</td>\n",
              "      <td>121000</td>\n",
              "      <td>43.1</td>\n",
              "      <td>14.5</td>\n",
              "      <td>5610</td>\n",
              "    </tr>\n",
              "    <tr>\n",
              "      <th>2</th>\n",
              "      <td>2</td>\n",
              "      <td>1</td>\n",
              "      <td>36</td>\n",
              "      <td>36000</td>\n",
              "      <td>48.5</td>\n",
              "      <td>17.3</td>\n",
              "      <td>4540</td>\n",
              "    </tr>\n",
              "    <tr>\n",
              "      <th>3</th>\n",
              "      <td>2</td>\n",
              "      <td>2</td>\n",
              "      <td>9</td>\n",
              "      <td>50000</td>\n",
              "      <td>39.5</td>\n",
              "      <td>13.3</td>\n",
              "      <td>2860</td>\n",
              "    </tr>\n",
              "    <tr>\n",
              "      <th>4</th>\n",
              "      <td>3</td>\n",
              "      <td>1</td>\n",
              "      <td>23</td>\n",
              "      <td>103000</td>\n",
              "      <td>44.1</td>\n",
              "      <td>15.3</td>\n",
              "      <td>3210</td>\n",
              "    </tr>\n",
              "  </tbody>\n",
              "</table>\n",
              "</div>\n",
              "    <div class=\"colab-df-buttons\">\n",
              "\n",
              "  <div class=\"colab-df-container\">\n",
              "    <button class=\"colab-df-convert\" onclick=\"convertToInteractive('df-ecf0db58-4dc7-4d89-a34a-57a96a61b6c1')\"\n",
              "            title=\"Convert this dataframe to an interactive table.\"\n",
              "            style=\"display:none;\">\n",
              "\n",
              "  <svg xmlns=\"http://www.w3.org/2000/svg\" height=\"24px\" viewBox=\"0 -960 960 960\">\n",
              "    <path d=\"M120-120v-720h720v720H120Zm60-500h600v-160H180v160Zm220 220h160v-160H400v160Zm0 220h160v-160H400v160ZM180-400h160v-160H180v160Zm440 0h160v-160H620v160ZM180-180h160v-160H180v160Zm440 0h160v-160H620v160Z\"/>\n",
              "  </svg>\n",
              "    </button>\n",
              "\n",
              "  <style>\n",
              "    .colab-df-container {\n",
              "      display:flex;\n",
              "      gap: 12px;\n",
              "    }\n",
              "\n",
              "    .colab-df-convert {\n",
              "      background-color: #E8F0FE;\n",
              "      border: none;\n",
              "      border-radius: 50%;\n",
              "      cursor: pointer;\n",
              "      display: none;\n",
              "      fill: #1967D2;\n",
              "      height: 32px;\n",
              "      padding: 0 0 0 0;\n",
              "      width: 32px;\n",
              "    }\n",
              "\n",
              "    .colab-df-convert:hover {\n",
              "      background-color: #E2EBFA;\n",
              "      box-shadow: 0px 1px 2px rgba(60, 64, 67, 0.3), 0px 1px 3px 1px rgba(60, 64, 67, 0.15);\n",
              "      fill: #174EA6;\n",
              "    }\n",
              "\n",
              "    .colab-df-buttons div {\n",
              "      margin-bottom: 4px;\n",
              "    }\n",
              "\n",
              "    [theme=dark] .colab-df-convert {\n",
              "      background-color: #3B4455;\n",
              "      fill: #D2E3FC;\n",
              "    }\n",
              "\n",
              "    [theme=dark] .colab-df-convert:hover {\n",
              "      background-color: #434B5C;\n",
              "      box-shadow: 0px 1px 3px 1px rgba(0, 0, 0, 0.15);\n",
              "      filter: drop-shadow(0px 1px 2px rgba(0, 0, 0, 0.3));\n",
              "      fill: #FFFFFF;\n",
              "    }\n",
              "  </style>\n",
              "\n",
              "    <script>\n",
              "      const buttonEl =\n",
              "        document.querySelector('#df-ecf0db58-4dc7-4d89-a34a-57a96a61b6c1 button.colab-df-convert');\n",
              "      buttonEl.style.display =\n",
              "        google.colab.kernel.accessAllowed ? 'block' : 'none';\n",
              "\n",
              "      async function convertToInteractive(key) {\n",
              "        const element = document.querySelector('#df-ecf0db58-4dc7-4d89-a34a-57a96a61b6c1');\n",
              "        const dataTable =\n",
              "          await google.colab.kernel.invokeFunction('convertToInteractive',\n",
              "                                                    [key], {});\n",
              "        if (!dataTable) return;\n",
              "\n",
              "        const docLinkHtml = 'Like what you see? Visit the ' +\n",
              "          '<a target=\"_blank\" href=https://colab.research.google.com/notebooks/data_table.ipynb>data table notebook</a>'\n",
              "          + ' to learn more about interactive tables.';\n",
              "        element.innerHTML = '';\n",
              "        dataTable['output_type'] = 'display_data';\n",
              "        await google.colab.output.renderOutput(dataTable, element);\n",
              "        const docLink = document.createElement('div');\n",
              "        docLink.innerHTML = docLinkHtml;\n",
              "        element.appendChild(docLink);\n",
              "      }\n",
              "    </script>\n",
              "  </div>\n",
              "\n",
              "\n",
              "<div id=\"df-23903978-7b5e-429f-9f50-4cd6c4d62f71\">\n",
              "  <button class=\"colab-df-quickchart\" onclick=\"quickchart('df-23903978-7b5e-429f-9f50-4cd6c4d62f71')\"\n",
              "            title=\"Suggest charts\"\n",
              "            style=\"display:none;\">\n",
              "\n",
              "<svg xmlns=\"http://www.w3.org/2000/svg\" height=\"24px\"viewBox=\"0 0 24 24\"\n",
              "     width=\"24px\">\n",
              "    <g>\n",
              "        <path d=\"M19 3H5c-1.1 0-2 .9-2 2v14c0 1.1.9 2 2 2h14c1.1 0 2-.9 2-2V5c0-1.1-.9-2-2-2zM9 17H7v-7h2v7zm4 0h-2V7h2v10zm4 0h-2v-4h2v4z\"/>\n",
              "    </g>\n",
              "</svg>\n",
              "  </button>\n",
              "\n",
              "<style>\n",
              "  .colab-df-quickchart {\n",
              "      --bg-color: #E8F0FE;\n",
              "      --fill-color: #1967D2;\n",
              "      --hover-bg-color: #E2EBFA;\n",
              "      --hover-fill-color: #174EA6;\n",
              "      --disabled-fill-color: #AAA;\n",
              "      --disabled-bg-color: #DDD;\n",
              "  }\n",
              "\n",
              "  [theme=dark] .colab-df-quickchart {\n",
              "      --bg-color: #3B4455;\n",
              "      --fill-color: #D2E3FC;\n",
              "      --hover-bg-color: #434B5C;\n",
              "      --hover-fill-color: #FFFFFF;\n",
              "      --disabled-bg-color: #3B4455;\n",
              "      --disabled-fill-color: #666;\n",
              "  }\n",
              "\n",
              "  .colab-df-quickchart {\n",
              "    background-color: var(--bg-color);\n",
              "    border: none;\n",
              "    border-radius: 50%;\n",
              "    cursor: pointer;\n",
              "    display: none;\n",
              "    fill: var(--fill-color);\n",
              "    height: 32px;\n",
              "    padding: 0;\n",
              "    width: 32px;\n",
              "  }\n",
              "\n",
              "  .colab-df-quickchart:hover {\n",
              "    background-color: var(--hover-bg-color);\n",
              "    box-shadow: 0 1px 2px rgba(60, 64, 67, 0.3), 0 1px 3px 1px rgba(60, 64, 67, 0.15);\n",
              "    fill: var(--button-hover-fill-color);\n",
              "  }\n",
              "\n",
              "  .colab-df-quickchart-complete:disabled,\n",
              "  .colab-df-quickchart-complete:disabled:hover {\n",
              "    background-color: var(--disabled-bg-color);\n",
              "    fill: var(--disabled-fill-color);\n",
              "    box-shadow: none;\n",
              "  }\n",
              "\n",
              "  .colab-df-spinner {\n",
              "    border: 2px solid var(--fill-color);\n",
              "    border-color: transparent;\n",
              "    border-bottom-color: var(--fill-color);\n",
              "    animation:\n",
              "      spin 1s steps(1) infinite;\n",
              "  }\n",
              "\n",
              "  @keyframes spin {\n",
              "    0% {\n",
              "      border-color: transparent;\n",
              "      border-bottom-color: var(--fill-color);\n",
              "      border-left-color: var(--fill-color);\n",
              "    }\n",
              "    20% {\n",
              "      border-color: transparent;\n",
              "      border-left-color: var(--fill-color);\n",
              "      border-top-color: var(--fill-color);\n",
              "    }\n",
              "    30% {\n",
              "      border-color: transparent;\n",
              "      border-left-color: var(--fill-color);\n",
              "      border-top-color: var(--fill-color);\n",
              "      border-right-color: var(--fill-color);\n",
              "    }\n",
              "    40% {\n",
              "      border-color: transparent;\n",
              "      border-right-color: var(--fill-color);\n",
              "      border-top-color: var(--fill-color);\n",
              "    }\n",
              "    60% {\n",
              "      border-color: transparent;\n",
              "      border-right-color: var(--fill-color);\n",
              "    }\n",
              "    80% {\n",
              "      border-color: transparent;\n",
              "      border-right-color: var(--fill-color);\n",
              "      border-bottom-color: var(--fill-color);\n",
              "    }\n",
              "    90% {\n",
              "      border-color: transparent;\n",
              "      border-bottom-color: var(--fill-color);\n",
              "    }\n",
              "  }\n",
              "</style>\n",
              "\n",
              "  <script>\n",
              "    async function quickchart(key) {\n",
              "      const quickchartButtonEl =\n",
              "        document.querySelector('#' + key + ' button');\n",
              "      quickchartButtonEl.disabled = true;  // To prevent multiple clicks.\n",
              "      quickchartButtonEl.classList.add('colab-df-spinner');\n",
              "      try {\n",
              "        const charts = await google.colab.kernel.invokeFunction(\n",
              "            'suggestCharts', [key], {});\n",
              "      } catch (error) {\n",
              "        console.error('Error during call to suggestCharts:', error);\n",
              "      }\n",
              "      quickchartButtonEl.classList.remove('colab-df-spinner');\n",
              "      quickchartButtonEl.classList.add('colab-df-quickchart-complete');\n",
              "    }\n",
              "    (() => {\n",
              "      let quickchartButtonEl =\n",
              "        document.querySelector('#df-23903978-7b5e-429f-9f50-4cd6c4d62f71 button');\n",
              "      quickchartButtonEl.style.display =\n",
              "        google.colab.kernel.accessAllowed ? 'block' : 'none';\n",
              "    })();\n",
              "  </script>\n",
              "</div>\n",
              "    </div>\n",
              "  </div>\n"
            ]
          },
          "metadata": {},
          "execution_count": 22
        }
      ],
      "source": [
        "data.head()"
      ]
    },
    {
      "cell_type": "code",
      "execution_count": 23,
      "metadata": {
        "ExecuteTime": {
          "end_time": "2021-10-15T19:20:05.735075Z",
          "start_time": "2021-10-15T19:20:05.566150Z"
        },
        "scrolled": false,
        "colab": {
          "base_uri": "https://localhost:8080/",
          "height": 600
        },
        "id": "uZDLdcvh34or",
        "outputId": "6aac93c6-10e5-4811-879f-d4294828dc5f"
      },
      "outputs": [
        {
          "output_type": "display_data",
          "data": {
            "text/plain": [
              "<lifelines.CoxPHFitter: fitted with 200 total observations, 0 right-censored observations>\n",
              "             duration col = 'SURVIVAL TIME'\n",
              "      baseline estimation = breslow\n",
              "   number of observations = 200\n",
              "number of events observed = 200\n",
              "   partial log-likelihood = -845.55\n",
              "         time fit was run = 2023-11-26 05:13:52 UTC\n",
              "\n",
              "---\n",
              "               coef  exp(coef)   se(coef)   coef lower 95%   coef upper 95%  exp(coef) lower 95%  exp(coef) upper 95%\n",
              "covariate                                                                                                            \n",
              "GENDER        -0.19       0.83       0.15            -0.49             0.12                 0.61                 1.12\n",
              "AGE           -0.02       0.98       0.01            -0.04            -0.01                 0.96                 0.99\n",
              "THROMBOCYTES  -0.00       1.00       0.00            -0.00            -0.00                 1.00                 1.00\n",
              "HEMATOCRIT     0.02       1.02       0.04            -0.06             0.10                 0.95                 1.11\n",
              "HEMOGLOBIN    -0.05       0.96       0.12            -0.29             0.20                 0.75                 1.22\n",
              "LEUKOCYTES    -0.00       1.00       0.00            -0.00             0.00                 1.00                 1.00\n",
              "\n",
              "               cmp to     z      p   -log2(p)\n",
              "covariate                                    \n",
              "GENDER           0.00 -1.20   0.23       2.13\n",
              "AGE              0.00 -2.70   0.01       7.16\n",
              "THROMBOCYTES     0.00 -4.12 <0.005      14.71\n",
              "HEMATOCRIT       0.00  0.57   0.57       0.82\n",
              "HEMOGLOBIN       0.00 -0.37   0.71       0.49\n",
              "LEUKOCYTES       0.00 -0.74   0.46       1.12\n",
              "---\n",
              "Concordance = 0.68\n",
              "Partial AIC = 1703.09\n",
              "log-likelihood ratio test = 35.37 on 6 df\n",
              "-log2(p) of ll-ratio test = 18.06"
            ],
            "text/html": [
              "<div>\n",
              "<style scoped>\n",
              "    .dataframe tbody tr th:only-of-type {\n",
              "        vertical-align: middle;\n",
              "    }\n",
              "\n",
              "    .dataframe tbody tr th {\n",
              "        vertical-align: top;\n",
              "    }\n",
              "\n",
              "    .dataframe thead th {\n",
              "        text-align: right;\n",
              "    }\n",
              "</style>\n",
              "<table border=\"1\" class=\"dataframe\">\n",
              "  <tbody>\n",
              "    <tr>\n",
              "      <th>model</th>\n",
              "      <td>lifelines.CoxPHFitter</td>\n",
              "    </tr>\n",
              "    <tr>\n",
              "      <th>duration col</th>\n",
              "      <td>'SURVIVAL TIME'</td>\n",
              "    </tr>\n",
              "    <tr>\n",
              "      <th>baseline estimation</th>\n",
              "      <td>breslow</td>\n",
              "    </tr>\n",
              "    <tr>\n",
              "      <th>number of observations</th>\n",
              "      <td>200</td>\n",
              "    </tr>\n",
              "    <tr>\n",
              "      <th>number of events observed</th>\n",
              "      <td>200</td>\n",
              "    </tr>\n",
              "    <tr>\n",
              "      <th>partial log-likelihood</th>\n",
              "      <td>-845.55</td>\n",
              "    </tr>\n",
              "    <tr>\n",
              "      <th>time fit was run</th>\n",
              "      <td>2023-11-26 05:13:52 UTC</td>\n",
              "    </tr>\n",
              "  </tbody>\n",
              "</table>\n",
              "</div><table border=\"1\" class=\"dataframe\">\n",
              "  <thead>\n",
              "    <tr style=\"text-align: right;\">\n",
              "      <th style=\"min-width: 12px;\"></th>\n",
              "      <th style=\"min-width: 12px;\">coef</th>\n",
              "      <th style=\"min-width: 12px;\">exp(coef)</th>\n",
              "      <th style=\"min-width: 12px;\">se(coef)</th>\n",
              "      <th style=\"min-width: 12px;\">coef lower 95%</th>\n",
              "      <th style=\"min-width: 12px;\">coef upper 95%</th>\n",
              "      <th style=\"min-width: 12px;\">exp(coef) lower 95%</th>\n",
              "      <th style=\"min-width: 12px;\">exp(coef) upper 95%</th>\n",
              "      <th style=\"min-width: 12px;\">cmp to</th>\n",
              "      <th style=\"min-width: 12px;\">z</th>\n",
              "      <th style=\"min-width: 12px;\">p</th>\n",
              "      <th style=\"min-width: 12px;\">-log2(p)</th>\n",
              "    </tr>\n",
              "  </thead>\n",
              "  <tbody>\n",
              "    <tr>\n",
              "      <th>GENDER</th>\n",
              "      <td>-0.19</td>\n",
              "      <td>0.83</td>\n",
              "      <td>0.15</td>\n",
              "      <td>-0.49</td>\n",
              "      <td>0.12</td>\n",
              "      <td>0.61</td>\n",
              "      <td>1.12</td>\n",
              "      <td>0.00</td>\n",
              "      <td>-1.20</td>\n",
              "      <td>0.23</td>\n",
              "      <td>2.13</td>\n",
              "    </tr>\n",
              "    <tr>\n",
              "      <th>AGE</th>\n",
              "      <td>-0.02</td>\n",
              "      <td>0.98</td>\n",
              "      <td>0.01</td>\n",
              "      <td>-0.04</td>\n",
              "      <td>-0.01</td>\n",
              "      <td>0.96</td>\n",
              "      <td>0.99</td>\n",
              "      <td>0.00</td>\n",
              "      <td>-2.70</td>\n",
              "      <td>0.01</td>\n",
              "      <td>7.16</td>\n",
              "    </tr>\n",
              "    <tr>\n",
              "      <th>THROMBOCYTES</th>\n",
              "      <td>-0.00</td>\n",
              "      <td>1.00</td>\n",
              "      <td>0.00</td>\n",
              "      <td>-0.00</td>\n",
              "      <td>-0.00</td>\n",
              "      <td>1.00</td>\n",
              "      <td>1.00</td>\n",
              "      <td>0.00</td>\n",
              "      <td>-4.12</td>\n",
              "      <td>&lt;0.005</td>\n",
              "      <td>14.71</td>\n",
              "    </tr>\n",
              "    <tr>\n",
              "      <th>HEMATOCRIT</th>\n",
              "      <td>0.02</td>\n",
              "      <td>1.02</td>\n",
              "      <td>0.04</td>\n",
              "      <td>-0.06</td>\n",
              "      <td>0.10</td>\n",
              "      <td>0.95</td>\n",
              "      <td>1.11</td>\n",
              "      <td>0.00</td>\n",
              "      <td>0.57</td>\n",
              "      <td>0.57</td>\n",
              "      <td>0.82</td>\n",
              "    </tr>\n",
              "    <tr>\n",
              "      <th>HEMOGLOBIN</th>\n",
              "      <td>-0.05</td>\n",
              "      <td>0.96</td>\n",
              "      <td>0.12</td>\n",
              "      <td>-0.29</td>\n",
              "      <td>0.20</td>\n",
              "      <td>0.75</td>\n",
              "      <td>1.22</td>\n",
              "      <td>0.00</td>\n",
              "      <td>-0.37</td>\n",
              "      <td>0.71</td>\n",
              "      <td>0.49</td>\n",
              "    </tr>\n",
              "    <tr>\n",
              "      <th>LEUKOCYTES</th>\n",
              "      <td>-0.00</td>\n",
              "      <td>1.00</td>\n",
              "      <td>0.00</td>\n",
              "      <td>-0.00</td>\n",
              "      <td>0.00</td>\n",
              "      <td>1.00</td>\n",
              "      <td>1.00</td>\n",
              "      <td>0.00</td>\n",
              "      <td>-0.74</td>\n",
              "      <td>0.46</td>\n",
              "      <td>1.12</td>\n",
              "    </tr>\n",
              "  </tbody>\n",
              "</table><br><div>\n",
              "<style scoped>\n",
              "    .dataframe tbody tr th:only-of-type {\n",
              "        vertical-align: middle;\n",
              "    }\n",
              "\n",
              "    .dataframe tbody tr th {\n",
              "        vertical-align: top;\n",
              "    }\n",
              "\n",
              "    .dataframe thead th {\n",
              "        text-align: right;\n",
              "    }\n",
              "</style>\n",
              "<table border=\"1\" class=\"dataframe\">\n",
              "  <tbody>\n",
              "    <tr>\n",
              "      <th>Concordance</th>\n",
              "      <td>0.68</td>\n",
              "    </tr>\n",
              "    <tr>\n",
              "      <th>Partial AIC</th>\n",
              "      <td>1703.09</td>\n",
              "    </tr>\n",
              "    <tr>\n",
              "      <th>log-likelihood ratio test</th>\n",
              "      <td>35.37 on 6 df</td>\n",
              "    </tr>\n",
              "    <tr>\n",
              "      <th>-log2(p) of ll-ratio test</th>\n",
              "      <td>18.06</td>\n",
              "    </tr>\n",
              "  </tbody>\n",
              "</table>\n",
              "</div>"
            ],
            "text/latex": "\\begin{tabular}{lrrrrrrrrrrr}\n & coef & exp(coef) & se(coef) & coef lower 95% & coef upper 95% & exp(coef) lower 95% & exp(coef) upper 95% & cmp to & z & p & -log2(p) \\\\\ncovariate &  &  &  &  &  &  &  &  &  &  &  \\\\\nGENDER & -0.19 & 0.83 & 0.15 & -0.49 & 0.12 & 0.61 & 1.12 & 0.00 & -1.20 & 0.23 & 2.13 \\\\\nAGE & -0.02 & 0.98 & 0.01 & -0.04 & -0.01 & 0.96 & 0.99 & 0.00 & -2.70 & 0.01 & 7.16 \\\\\nTHROMBOCYTES & -0.00 & 1.00 & 0.00 & -0.00 & -0.00 & 1.00 & 1.00 & 0.00 & -4.12 & 0.00 & 14.71 \\\\\nHEMATOCRIT & 0.02 & 1.02 & 0.04 & -0.06 & 0.10 & 0.95 & 1.11 & 0.00 & 0.57 & 0.57 & 0.82 \\\\\nHEMOGLOBIN & -0.05 & 0.96 & 0.12 & -0.29 & 0.20 & 0.75 & 1.22 & 0.00 & -0.37 & 0.71 & 0.49 \\\\\nLEUKOCYTES & -0.00 & 1.00 & 0.00 & -0.00 & 0.00 & 1.00 & 1.00 & 0.00 & -0.74 & 0.46 & 1.12 \\\\\n\\end{tabular}\n"
          },
          "metadata": {}
        }
      ],
      "source": [
        "cph = CoxPHFitter()\n",
        "cph.fit(data, duration_col = 'SURVIVAL TIME')\n",
        "\n",
        "cph.print_summary()"
      ]
    },
    {
      "cell_type": "markdown",
      "metadata": {
        "id": "FYS4MVw_34os"
      },
      "source": [
        "### Interpretation"
      ]
    },
    {
      "cell_type": "markdown",
      "metadata": {
        "id": "tu816jnt34ot"
      },
      "source": [
        "* Wt.loss has a coefficient of about -0.01.\n",
        "\n",
        "* We can recall that in the Cox proportional hazard model, a higher hazard means more at risk of the event occurring.\n",
        "The value $exp(-0.01)$ is called the hazard ratio.\n",
        "\n",
        "* Here, a one unit increase in wt loss means the baseline hazard will increase by a factor\n",
        "of $exp(-0.01)$ = 0.99 -> about a 1% decrease.\n",
        "\n",
        "* Similarly, the values in the ecog column are: \\[0 = asymptomatic, 1 = symptomatic but completely ambulatory, 2 = in bed $<$50\\% of the day\\]. The value of the coefficient associated with ecog2, $exp(1.20)$, is the value of ratio of hazards associated with being \"in bed $<$50% of the day (coded as 2)\" compared to asymptomatic (coded as 0, base category)."
      ]
    },
    {
      "cell_type": "code",
      "execution_count": 24,
      "metadata": {
        "ExecuteTime": {
          "end_time": "2021-10-15T19:23:53.317001Z",
          "start_time": "2021-10-15T19:23:53.150418Z"
        },
        "colab": {
          "base_uri": "https://localhost:8080/",
          "height": 559
        },
        "id": "QoSkr5lR34ot",
        "outputId": "31d3a59e-ca7e-4efb-a7c2-aa1532d3b10e"
      },
      "outputs": [
        {
          "output_type": "execute_result",
          "data": {
            "text/plain": [
              "<Axes: xlabel='log(HR) (95% CI)'>"
            ]
          },
          "metadata": {},
          "execution_count": 24
        },
        {
          "output_type": "display_data",
          "data": {
            "text/plain": [
              "<Figure size 1000x600 with 1 Axes>"
            ],
            "image/png": "[encoded data removed]"
          },
          "metadata": {}
        }
      ],
      "source": [
        "plt.subplots(figsize=(10, 6))\n",
        "cph.plot()"
      ]
    },
    {
      "cell_type": "code",
      "execution_count": 26,
      "metadata": {
        "ExecuteTime": {
          "end_time": "2021-10-15T19:24:28.690946Z",
          "start_time": "2021-10-15T19:24:28.471523Z"
        },
        "colab": {
          "base_uri": "https://localhost:8080/",
          "height": 447
        },
        "id": "j4_SVyll34o6",
        "outputId": "b81a9ec5-e3d6-4bb5-e78a-fae8d16ddbdf"
      },
      "outputs": [
        {
          "output_type": "execute_result",
          "data": {
            "text/plain": [
              "<Axes: >"
            ]
          },
          "metadata": {},
          "execution_count": 26
        },
        {
          "output_type": "display_data",
          "data": {
            "text/plain": [
              "<Figure size 640x480 with 1 Axes>"
            ],
            "image/png": "[encoded data removed]"
          },
          "metadata": {}
        }
      ],
      "source": [
        "cph.plot_partial_effects_on_outcome(covariates = 'AGE',\n",
        "                                    values = [0, 10,20, 30],\n",
        "                                    cmap = 'coolwarm')"
      ]
    },
    {
      "cell_type": "code",
      "execution_count": 27,
      "metadata": {
        "ExecuteTime": {
          "end_time": "2021-10-15T19:25:32.889132Z",
          "start_time": "2021-10-15T19:25:32.773374Z"
        },
        "colab": {
          "base_uri": "https://localhost:8080/",
          "height": 1000
        },
        "id": "OlJ6e3hf34o7",
        "outputId": "8c2b0c74-9051-41f4-8d68-793522c62010"
      },
      "outputs": [
        {
          "output_type": "stream",
          "name": "stdout",
          "text": [
            "The ``p_value_threshold`` is set at 0.05. Even under the null hypothesis of no violations, some\n",
            "covariates will be below the threshold by chance. This is compounded when there are many covariates.\n",
            "Similarly, when there are lots of observations, even minor deviances from the proportional hazard\n",
            "assumption will be flagged.\n",
            "\n",
            "With that in mind, it's best to use a combination of statistical tests and visual tests to determine\n",
            "the most serious violations. Produce visual plots using ``check_assumptions(..., show_plots=True)``\n",
            "and looking for non-constant lines. See link [A] below for a full example.\n",
            "\n"
          ]
        },
        {
          "output_type": "display_data",
          "data": {
            "text/plain": [
              "<lifelines.StatisticalResult: proportional_hazard_test>\n",
              " null_distribution = chi squared\n",
              "degrees_of_freedom = 1\n",
              "             model = <lifelines.CoxPHFitter: fitted with 200 total observations, 0 right-censored observations>\n",
              "         test_name = proportional_hazard_test\n",
              "\n",
              "---\n",
              "                   test_statistic      p  -log2(p)\n",
              "AGE          km              7.95 <0.005      7.70\n",
              "             rank            9.94 <0.005      9.27\n",
              "GENDER       km              0.01   0.90      0.14\n",
              "             rank            0.00   1.00      0.00\n",
              "HEMATOCRIT   km              0.06   0.80      0.32\n",
              "             rank            0.16   0.69      0.54\n",
              "HEMOGLOBIN   km              0.47   0.49      1.02\n",
              "             rank            0.70   0.40      1.31\n",
              "LEUKOCYTES   km              0.21   0.65      0.63\n",
              "             rank            0.00   0.97      0.04\n",
              "THROMBOCYTES km              0.31   0.58      0.80\n",
              "             rank            0.27   0.60      0.73"
            ],
            "text/html": [
              "<div>\n",
              "<style scoped>\n",
              "    .dataframe tbody tr th:only-of-type {\n",
              "        vertical-align: middle;\n",
              "    }\n",
              "\n",
              "    .dataframe tbody tr th {\n",
              "        vertical-align: top;\n",
              "    }\n",
              "\n",
              "    .dataframe thead th {\n",
              "        text-align: right;\n",
              "    }\n",
              "</style>\n",
              "<table border=\"1\" class=\"dataframe\">\n",
              "  <tbody>\n",
              "    <tr>\n",
              "      <th>null_distribution</th>\n",
              "      <td>chi squared</td>\n",
              "    </tr>\n",
              "    <tr>\n",
              "      <th>degrees_of_freedom</th>\n",
              "      <td>1</td>\n",
              "    </tr>\n",
              "    <tr>\n",
              "      <th>model</th>\n",
              "      <td>&lt;lifelines.CoxPHFitter: fitted with 200 total ...</td>\n",
              "    </tr>\n",
              "    <tr>\n",
              "      <th>test_name</th>\n",
              "      <td>proportional_hazard_test</td>\n",
              "    </tr>\n",
              "  </tbody>\n",
              "</table>\n",
              "</div><table border=\"1\" class=\"dataframe\">\n",
              "  <thead>\n",
              "    <tr style=\"text-align: right;\">\n",
              "      <th></th>\n",
              "      <th></th>\n",
              "      <th>test_statistic</th>\n",
              "      <th>p</th>\n",
              "      <th>-log2(p)</th>\n",
              "    </tr>\n",
              "  </thead>\n",
              "  <tbody>\n",
              "    <tr>\n",
              "      <th rowspan=\"2\" valign=\"top\">AGE</th>\n",
              "      <th>km</th>\n",
              "      <td>7.95</td>\n",
              "      <td>&lt;0.005</td>\n",
              "      <td>7.70</td>\n",
              "    </tr>\n",
              "    <tr>\n",
              "      <th>rank</th>\n",
              "      <td>9.94</td>\n",
              "      <td>&lt;0.005</td>\n",
              "      <td>9.27</td>\n",
              "    </tr>\n",
              "    <tr>\n",
              "      <th rowspan=\"2\" valign=\"top\">GENDER</th>\n",
              "      <th>km</th>\n",
              "      <td>0.01</td>\n",
              "      <td>0.90</td>\n",
              "      <td>0.14</td>\n",
              "    </tr>\n",
              "    <tr>\n",
              "      <th>rank</th>\n",
              "      <td>0.00</td>\n",
              "      <td>1.00</td>\n",
              "      <td>0.00</td>\n",
              "    </tr>\n",
              "    <tr>\n",
              "      <th rowspan=\"2\" valign=\"top\">HEMATOCRIT</th>\n",
              "      <th>km</th>\n",
              "      <td>0.06</td>\n",
              "      <td>0.80</td>\n",
              "      <td>0.32</td>\n",
              "    </tr>\n",
              "    <tr>\n",
              "      <th>rank</th>\n",
              "      <td>0.16</td>\n",
              "      <td>0.69</td>\n",
              "      <td>0.54</td>\n",
              "    </tr>\n",
              "    <tr>\n",
              "      <th rowspan=\"2\" valign=\"top\">HEMOGLOBIN</th>\n",
              "      <th>km</th>\n",
              "      <td>0.47</td>\n",
              "      <td>0.49</td>\n",
              "      <td>1.02</td>\n",
              "    </tr>\n",
              "    <tr>\n",
              "      <th>rank</th>\n",
              "      <td>0.70</td>\n",
              "      <td>0.40</td>\n",
              "      <td>1.31</td>\n",
              "    </tr>\n",
              "    <tr>\n",
              "      <th rowspan=\"2\" valign=\"top\">LEUKOCYTES</th>\n",
              "      <th>km</th>\n",
              "      <td>0.21</td>\n",
              "      <td>0.65</td>\n",
              "      <td>0.63</td>\n",
              "    </tr>\n",
              "    <tr>\n",
              "      <th>rank</th>\n",
              "      <td>0.00</td>\n",
              "      <td>0.97</td>\n",
              "      <td>0.04</td>\n",
              "    </tr>\n",
              "    <tr>\n",
              "      <th rowspan=\"2\" valign=\"top\">THROMBOCYTES</th>\n",
              "      <th>km</th>\n",
              "      <td>0.31</td>\n",
              "      <td>0.58</td>\n",
              "      <td>0.80</td>\n",
              "    </tr>\n",
              "    <tr>\n",
              "      <th>rank</th>\n",
              "      <td>0.27</td>\n",
              "      <td>0.60</td>\n",
              "      <td>0.73</td>\n",
              "    </tr>\n",
              "  </tbody>\n",
              "</table>"
            ],
            "text/latex": "\\begin{tabular}{llrrr}\n &  & test_statistic & p & -log2(p) \\\\\n\\multirow[c]{2}{*}{AGE} & km & 7.95 & 0.00 & 7.70 \\\\\n & rank & 9.94 & 0.00 & 9.27 \\\\\n\\multirow[c]{2}{*}{GENDER} & km & 0.01 & 0.90 & 0.14 \\\\\n & rank & 0.00 & 1.00 & 0.00 \\\\\n\\multirow[c]{2}{*}{HEMATOCRIT} & km & 0.06 & 0.80 & 0.32 \\\\\n & rank & 0.16 & 0.69 & 0.54 \\\\\n\\multirow[c]{2}{*}{HEMOGLOBIN} & km & 0.47 & 0.49 & 1.02 \\\\\n & rank & 0.70 & 0.40 & 1.31 \\\\\n\\multirow[c]{2}{*}{LEUKOCYTES} & km & 0.21 & 0.65 & 0.63 \\\\\n & rank & 0.00 & 0.97 & 0.04 \\\\\n\\multirow[c]{2}{*}{THROMBOCYTES} & km & 0.31 & 0.58 & 0.80 \\\\\n & rank & 0.27 & 0.60 & 0.73 \\\\\n\\end{tabular}\n"
          },
          "metadata": {}
        },
        {
          "output_type": "stream",
          "name": "stdout",
          "text": [
            "\n",
            "\n",
            "1. Variable 'AGE' failed the non-proportional test: p-value is 0.0016.\n",
            "\n",
            "   Advice 1: the functional form of the variable 'AGE' might be incorrect. That is, there may be\n",
            "non-linear terms missing. The proportional hazard test used is very sensitive to incorrect\n",
            "functional forms. See documentation in link [D] below on how to specify a functional form.\n",
            "\n",
            "   Advice 2: try binning the variable 'AGE' using pd.cut, and then specify it in `strata=['AGE',\n",
            "...]` in the call in `.fit`. See documentation in link [B] below.\n",
            "\n",
            "   Advice 3: try adding an interaction term with your time variable. See documentation in link [C]\n",
            "below.\n",
            "\n",
            "\n",
            "---\n",
            "[A]  https://lifelines.readthedocs.io/en/latest/jupyter_notebooks/Proportional%20hazard%20assumption.html\n",
            "[B]  https://lifelines.readthedocs.io/en/latest/jupyter_notebooks/Proportional%20hazard%20assumption.html#Bin-variable-and-stratify-on-it\n",
            "[C]  https://lifelines.readthedocs.io/en/latest/jupyter_notebooks/Proportional%20hazard%20assumption.html#Introduce-time-varying-covariates\n",
            "[D]  https://lifelines.readthedocs.io/en/latest/jupyter_notebooks/Proportional%20hazard%20assumption.html#Modify-the-functional-form\n",
            "[E]  https://lifelines.readthedocs.io/en/latest/jupyter_notebooks/Proportional%20hazard%20assumption.html#Stratification\n",
            "\n"
          ]
        },
        {
          "output_type": "execute_result",
          "data": {
            "text/plain": [
              "[]"
            ]
          },
          "metadata": {},
          "execution_count": 27
        }
      ],
      "source": [
        "cph.check_assumptions(data, p_value_threshold = 0.05)"
      ]
    },
    {
      "cell_type": "code",
      "execution_count": 28,
      "metadata": {
        "ExecuteTime": {
          "end_time": "2021-10-15T19:26:49.253297Z",
          "start_time": "2021-10-15T19:26:49.205403Z"
        },
        "colab": {
          "base_uri": "https://localhost:8080/",
          "height": 394
        },
        "id": "emi20w7v34o8",
        "outputId": "72abd994-c566-409f-b11f-0182f38b19ee"
      },
      "outputs": [
        {
          "output_type": "display_data",
          "data": {
            "text/plain": [
              "<lifelines.StatisticalResult: proportional_hazard_test>\n",
              "    time_transform = rank\n",
              " null_distribution = chi squared\n",
              "degrees_of_freedom = 1\n",
              "             model = <lifelines.CoxPHFitter: fitted with 200 total observations, 0 right-censored observations>\n",
              "         test_name = proportional_hazard_test\n",
              "\n",
              "---\n",
              "              test_statistic      p  -log2(p)\n",
              "AGE                     9.94 <0.005      9.27\n",
              "GENDER                  0.00   1.00      0.00\n",
              "HEMATOCRIT              0.16   0.69      0.54\n",
              "HEMOGLOBIN              0.70   0.40      1.31\n",
              "LEUKOCYTES              0.00   0.97      0.04\n",
              "THROMBOCYTES            0.27   0.60      0.73"
            ],
            "text/html": [
              "<div>\n",
              "<style scoped>\n",
              "    .dataframe tbody tr th:only-of-type {\n",
              "        vertical-align: middle;\n",
              "    }\n",
              "\n",
              "    .dataframe tbody tr th {\n",
              "        vertical-align: top;\n",
              "    }\n",
              "\n",
              "    .dataframe thead th {\n",
              "        text-align: right;\n",
              "    }\n",
              "</style>\n",
              "<table border=\"1\" class=\"dataframe\">\n",
              "  <tbody>\n",
              "    <tr>\n",
              "      <th>time_transform</th>\n",
              "      <td>rank</td>\n",
              "    </tr>\n",
              "    <tr>\n",
              "      <th>null_distribution</th>\n",
              "      <td>chi squared</td>\n",
              "    </tr>\n",
              "    <tr>\n",
              "      <th>degrees_of_freedom</th>\n",
              "      <td>1</td>\n",
              "    </tr>\n",
              "    <tr>\n",
              "      <th>model</th>\n",
              "      <td>&lt;lifelines.CoxPHFitter: fitted with 200 total ...</td>\n",
              "    </tr>\n",
              "    <tr>\n",
              "      <th>test_name</th>\n",
              "      <td>proportional_hazard_test</td>\n",
              "    </tr>\n",
              "  </tbody>\n",
              "</table>\n",
              "</div><table border=\"1\" class=\"dataframe\">\n",
              "  <thead>\n",
              "    <tr style=\"text-align: right;\">\n",
              "      <th></th>\n",
              "      <th>test_statistic</th>\n",
              "      <th>p</th>\n",
              "      <th>-log2(p)</th>\n",
              "    </tr>\n",
              "  </thead>\n",
              "  <tbody>\n",
              "    <tr>\n",
              "      <th>AGE</th>\n",
              "      <td>9.94</td>\n",
              "      <td>&lt;0.005</td>\n",
              "      <td>9.27</td>\n",
              "    </tr>\n",
              "    <tr>\n",
              "      <th>GENDER</th>\n",
              "      <td>0.00</td>\n",
              "      <td>1.00</td>\n",
              "      <td>0.00</td>\n",
              "    </tr>\n",
              "    <tr>\n",
              "      <th>HEMATOCRIT</th>\n",
              "      <td>0.16</td>\n",
              "      <td>0.69</td>\n",
              "      <td>0.54</td>\n",
              "    </tr>\n",
              "    <tr>\n",
              "      <th>HEMOGLOBIN</th>\n",
              "      <td>0.70</td>\n",
              "      <td>0.40</td>\n",
              "      <td>1.31</td>\n",
              "    </tr>\n",
              "    <tr>\n",
              "      <th>LEUKOCYTES</th>\n",
              "      <td>0.00</td>\n",
              "      <td>0.97</td>\n",
              "      <td>0.04</td>\n",
              "    </tr>\n",
              "    <tr>\n",
              "      <th>THROMBOCYTES</th>\n",
              "      <td>0.27</td>\n",
              "      <td>0.60</td>\n",
              "      <td>0.73</td>\n",
              "    </tr>\n",
              "  </tbody>\n",
              "</table>"
            ],
            "text/latex": "\\begin{tabular}{lrrr}\n & test_statistic & p & -log2(p) \\\\\nAGE & 9.94 & 0.00 & 9.27 \\\\\nGENDER & 0.00 & 1.00 & 0.00 \\\\\nHEMATOCRIT & 0.16 & 0.69 & 0.54 \\\\\nHEMOGLOBIN & 0.70 & 0.40 & 1.31 \\\\\nLEUKOCYTES & 0.00 & 0.97 & 0.04 \\\\\nTHROMBOCYTES & 0.27 & 0.60 & 0.73 \\\\\n\\end{tabular}\n"
          },
          "metadata": {}
        }
      ],
      "source": [
        "from lifelines.statistics import proportional_hazard_test\n",
        "\n",
        "results = proportional_hazard_test(cph, data, time_transform='rank')\n",
        "results.print_summary(decimals=3, model=\"untransformed variables\")"
      ]
    },
    {
      "cell_type": "markdown",
      "metadata": {
        "id": "sZkrd12b34o9"
      },
      "source": [
        "## Parametric [Accelerated Failure Time Model (AFT)]"
      ]
    },
    {
      "cell_type": "markdown",
      "metadata": {
        "id": "aZLW-PvN34o-"
      },
      "source": [
        "[AFT Lifelines package webpage](https://lifelines.readthedocs.io/en/latest/Survival%20Regression.html#accelerated-failure-time-models)"
      ]
    },
    {
      "cell_type": "code",
      "execution_count": 30,
      "metadata": {
        "ExecuteTime": {
          "end_time": "2021-10-15T19:31:21.581683Z",
          "start_time": "2021-10-15T19:31:20.996764Z"
        },
        "colab": {
          "base_uri": "https://localhost:8080/"
        },
        "id": "1GRlF0Pz34o-",
        "outputId": "484318d0-590a-4b01-a1f2-bc83f3177c34"
      },
      "outputs": [
        {
          "output_type": "stream",
          "name": "stdout",
          "text": [
            "The AIC value for WeibullFitter is 873.4608339332216\n",
            "The AIC value for ExponentialFitter is 943.818265122124\n",
            "The AIC value for LogNormalFitter is 748.3788404949802\n",
            "The AIC value for LogLogisticFitter is 728.7117777097735\n"
          ]
        }
      ],
      "source": [
        "from lifelines import WeibullFitter,\\\n",
        "                      ExponentialFitter,\\\n",
        "                      LogNormalFitter,\\\n",
        "                      LogLogisticFitter\n",
        "\n",
        "\n",
        "# Instantiate each fitter\n",
        "wb = WeibullFitter()\n",
        "ex = ExponentialFitter()\n",
        "log = LogNormalFitter()\n",
        "loglogis = LogLogisticFitter()\n",
        "\n",
        "# Fit to data\n",
        "for model in [wb, ex, log, loglogis]:\n",
        "  model.fit(durations = data[\"SURVIVAL TIME\"])\n",
        "\n",
        "  # Print AIC\n",
        "  print(\"The AIC value for\", model.__class__.__name__, \"is\",  model.AIC_)"
      ]
    },
    {
      "cell_type": "markdown",
      "metadata": {
        "id": "DWHCdPcs34o_"
      },
      "source": [
        "### Fit the weibull fitter and print summary"
      ]
    },
    {
      "cell_type": "code",
      "execution_count": 31,
      "metadata": {
        "ExecuteTime": {
          "end_time": "2021-10-15T19:31:42.902854Z",
          "start_time": "2021-10-15T19:31:42.492853Z"
        },
        "colab": {
          "base_uri": "https://localhost:8080/",
          "height": 631
        },
        "id": "OU0x0-dh34pA",
        "outputId": "a63e2bae-8ccc-47e9-fb23-8a9313f79fa3"
      },
      "outputs": [
        {
          "output_type": "display_data",
          "data": {
            "text/plain": [
              "<lifelines.WeibullAFTFitter: fitted with 200 total observations, 0 right-censored observations>\n",
              "             duration col = 'SURVIVAL TIME'\n",
              "   number of observations = 200\n",
              "number of events observed = 200\n",
              "           log-likelihood = -424.485\n",
              "         time fit was run = 2023-11-26 05:16:57 UTC\n",
              "\n",
              "---\n",
              "                       coef  exp(coef)   se(coef)   coef lower 95%   coef upper 95%  exp(coef) lower 95%  exp(coef) upper 95%\n",
              "param   covariate                                                                                                            \n",
              "lambda_ AGE           0.009      1.009      0.005           -0.001            0.019                0.999                1.020\n",
              "        GENDER        0.091      1.095      0.096           -0.097            0.279                0.907                1.321\n",
              "        HEMATOCRIT   -0.021      0.979      0.026           -0.072            0.031                0.930                1.031\n",
              "        HEMOGLOBIN    0.108      1.114      0.080           -0.048            0.264                0.953                1.302\n",
              "        LEUKOCYTES   -0.000      1.000      0.000           -0.000           -0.000                1.000                1.000\n",
              "        THROMBOCYTES  0.000      1.000      0.000            0.000            0.000                1.000                1.000\n",
              "        Intercept     0.375      1.455      0.528           -0.660            1.410                0.517                4.097\n",
              "rho_    Intercept     0.487      1.628      0.043            0.403            0.572                1.496                1.771\n",
              "\n",
              "                       cmp to      z       p   -log2(p)\n",
              "param   covariate                                      \n",
              "lambda_ AGE             0.000  1.827   0.068      3.885\n",
              "        GENDER          0.000  0.945   0.345      1.536\n",
              "        HEMATOCRIT      0.000 -0.786   0.432      1.212\n",
              "        HEMOGLOBIN      0.000  1.354   0.176      2.509\n",
              "        LEUKOCYTES      0.000 -2.652   0.008      6.967\n",
              "        THROMBOCYTES    0.000  4.076 <0.0005     14.412\n",
              "        Intercept       0.000  0.710   0.477      1.066\n",
              "rho_    Intercept       0.000 11.328 <0.0005     96.407\n",
              "---\n",
              "Concordance = 0.643\n",
              "AIC = 864.970\n",
              "log-likelihood ratio test = 20.491 on 6 df\n",
              "-log2(p) of ll-ratio test = 8.787"
            ],
            "text/html": [
              "<div>\n",
              "<style scoped>\n",
              "    .dataframe tbody tr th:only-of-type {\n",
              "        vertical-align: middle;\n",
              "    }\n",
              "\n",
              "    .dataframe tbody tr th {\n",
              "        vertical-align: top;\n",
              "    }\n",
              "\n",
              "    .dataframe thead th {\n",
              "        text-align: right;\n",
              "    }\n",
              "</style>\n",
              "<table border=\"1\" class=\"dataframe\">\n",
              "  <tbody>\n",
              "    <tr>\n",
              "      <th>model</th>\n",
              "      <td>lifelines.WeibullAFTFitter</td>\n",
              "    </tr>\n",
              "    <tr>\n",
              "      <th>duration col</th>\n",
              "      <td>'SURVIVAL TIME'</td>\n",
              "    </tr>\n",
              "    <tr>\n",
              "      <th>number of observations</th>\n",
              "      <td>200</td>\n",
              "    </tr>\n",
              "    <tr>\n",
              "      <th>number of events observed</th>\n",
              "      <td>200</td>\n",
              "    </tr>\n",
              "    <tr>\n",
              "      <th>log-likelihood</th>\n",
              "      <td>-424.485</td>\n",
              "    </tr>\n",
              "    <tr>\n",
              "      <th>time fit was run</th>\n",
              "      <td>2023-11-26 05:16:57 UTC</td>\n",
              "    </tr>\n",
              "  </tbody>\n",
              "</table>\n",
              "</div><table border=\"1\" class=\"dataframe\">\n",
              "  <thead>\n",
              "    <tr style=\"text-align: right;\">\n",
              "      <th style=\"min-width: 12px;\"></th>\n",
              "      <th style=\"min-width: 12px;\"></th>\n",
              "      <th style=\"min-width: 12px;\">coef</th>\n",
              "      <th style=\"min-width: 12px;\">exp(coef)</th>\n",
              "      <th style=\"min-width: 12px;\">se(coef)</th>\n",
              "      <th style=\"min-width: 12px;\">coef lower 95%</th>\n",
              "      <th style=\"min-width: 12px;\">coef upper 95%</th>\n",
              "      <th style=\"min-width: 12px;\">exp(coef) lower 95%</th>\n",
              "      <th style=\"min-width: 12px;\">exp(coef) upper 95%</th>\n",
              "      <th style=\"min-width: 12px;\">cmp to</th>\n",
              "      <th style=\"min-width: 12px;\">z</th>\n",
              "      <th style=\"min-width: 12px;\">p</th>\n",
              "      <th style=\"min-width: 12px;\">-log2(p)</th>\n",
              "    </tr>\n",
              "  </thead>\n",
              "  <tbody>\n",
              "    <tr>\n",
              "      <th rowspan=\"7\" valign=\"top\">lambda_</th>\n",
              "      <th>AGE</th>\n",
              "      <td>0.009</td>\n",
              "      <td>1.009</td>\n",
              "      <td>0.005</td>\n",
              "      <td>-0.001</td>\n",
              "      <td>0.019</td>\n",
              "      <td>0.999</td>\n",
              "      <td>1.020</td>\n",
              "      <td>0.000</td>\n",
              "      <td>1.827</td>\n",
              "      <td>0.068</td>\n",
              "      <td>3.885</td>\n",
              "    </tr>\n",
              "    <tr>\n",
              "      <th>GENDER</th>\n",
              "      <td>0.091</td>\n",
              "      <td>1.095</td>\n",
              "      <td>0.096</td>\n",
              "      <td>-0.097</td>\n",
              "      <td>0.279</td>\n",
              "      <td>0.907</td>\n",
              "      <td>1.321</td>\n",
              "      <td>0.000</td>\n",
              "      <td>0.945</td>\n",
              "      <td>0.345</td>\n",
              "      <td>1.536</td>\n",
              "    </tr>\n",
              "    <tr>\n",
              "      <th>HEMATOCRIT</th>\n",
              "      <td>-0.021</td>\n",
              "      <td>0.979</td>\n",
              "      <td>0.026</td>\n",
              "      <td>-0.072</td>\n",
              "      <td>0.031</td>\n",
              "      <td>0.930</td>\n",
              "      <td>1.031</td>\n",
              "      <td>0.000</td>\n",
              "      <td>-0.786</td>\n",
              "      <td>0.432</td>\n",
              "      <td>1.212</td>\n",
              "    </tr>\n",
              "    <tr>\n",
              "      <th>HEMOGLOBIN</th>\n",
              "      <td>0.108</td>\n",
              "      <td>1.114</td>\n",
              "      <td>0.080</td>\n",
              "      <td>-0.048</td>\n",
              "      <td>0.264</td>\n",
              "      <td>0.953</td>\n",
              "      <td>1.302</td>\n",
              "      <td>0.000</td>\n",
              "      <td>1.354</td>\n",
              "      <td>0.176</td>\n",
              "      <td>2.509</td>\n",
              "    </tr>\n",
              "    <tr>\n",
              "      <th>LEUKOCYTES</th>\n",
              "      <td>-0.000</td>\n",
              "      <td>1.000</td>\n",
              "      <td>0.000</td>\n",
              "      <td>-0.000</td>\n",
              "      <td>-0.000</td>\n",
              "      <td>1.000</td>\n",
              "      <td>1.000</td>\n",
              "      <td>0.000</td>\n",
              "      <td>-2.652</td>\n",
              "      <td>0.008</td>\n",
              "      <td>6.967</td>\n",
              "    </tr>\n",
              "    <tr>\n",
              "      <th>THROMBOCYTES</th>\n",
              "      <td>0.000</td>\n",
              "      <td>1.000</td>\n",
              "      <td>0.000</td>\n",
              "      <td>0.000</td>\n",
              "      <td>0.000</td>\n",
              "      <td>1.000</td>\n",
              "      <td>1.000</td>\n",
              "      <td>0.000</td>\n",
              "      <td>4.076</td>\n",
              "      <td>&lt;0.0005</td>\n",
              "      <td>14.412</td>\n",
              "    </tr>\n",
              "    <tr>\n",
              "      <th>Intercept</th>\n",
              "      <td>0.375</td>\n",
              "      <td>1.455</td>\n",
              "      <td>0.528</td>\n",
              "      <td>-0.660</td>\n",
              "      <td>1.410</td>\n",
              "      <td>0.517</td>\n",
              "      <td>4.097</td>\n",
              "      <td>0.000</td>\n",
              "      <td>0.710</td>\n",
              "      <td>0.477</td>\n",
              "      <td>1.066</td>\n",
              "    </tr>\n",
              "    <tr>\n",
              "      <th>rho_</th>\n",
              "      <th>Intercept</th>\n",
              "      <td>0.487</td>\n",
              "      <td>1.628</td>\n",
              "      <td>0.043</td>\n",
              "      <td>0.403</td>\n",
              "      <td>0.572</td>\n",
              "      <td>1.496</td>\n",
              "      <td>1.771</td>\n",
              "      <td>0.000</td>\n",
              "      <td>11.328</td>\n",
              "      <td>&lt;0.0005</td>\n",
              "      <td>96.407</td>\n",
              "    </tr>\n",
              "  </tbody>\n",
              "</table><br><div>\n",
              "<style scoped>\n",
              "    .dataframe tbody tr th:only-of-type {\n",
              "        vertical-align: middle;\n",
              "    }\n",
              "\n",
              "    .dataframe tbody tr th {\n",
              "        vertical-align: top;\n",
              "    }\n",
              "\n",
              "    .dataframe thead th {\n",
              "        text-align: right;\n",
              "    }\n",
              "</style>\n",
              "<table border=\"1\" class=\"dataframe\">\n",
              "  <tbody>\n",
              "    <tr>\n",
              "      <th>Concordance</th>\n",
              "      <td>0.643</td>\n",
              "    </tr>\n",
              "    <tr>\n",
              "      <th>AIC</th>\n",
              "      <td>864.970</td>\n",
              "    </tr>\n",
              "    <tr>\n",
              "      <th>log-likelihood ratio test</th>\n",
              "      <td>20.491 on 6 df</td>\n",
              "    </tr>\n",
              "    <tr>\n",
              "      <th>-log2(p) of ll-ratio test</th>\n",
              "      <td>8.787</td>\n",
              "    </tr>\n",
              "  </tbody>\n",
              "</table>\n",
              "</div>"
            ],
            "text/latex": "\\begin{tabular}{llrrrrrrrrrrr}\n &  & coef & exp(coef) & se(coef) & coef lower 95% & coef upper 95% & exp(coef) lower 95% & exp(coef) upper 95% & cmp to & z & p & -log2(p) \\\\\nparam & covariate &  &  &  &  &  &  &  &  &  &  &  \\\\\n\\multirow[c]{7}{*}{lambda_} & AGE & 0.009 & 1.009 & 0.005 & -0.001 & 0.019 & 0.999 & 1.020 & 0.000 & 1.827 & 0.068 & 3.885 \\\\\n & GENDER & 0.091 & 1.095 & 0.096 & -0.097 & 0.279 & 0.907 & 1.321 & 0.000 & 0.945 & 0.345 & 1.536 \\\\\n & HEMATOCRIT & -0.021 & 0.979 & 0.026 & -0.072 & 0.031 & 0.930 & 1.031 & 0.000 & -0.786 & 0.432 & 1.212 \\\\\n & HEMOGLOBIN & 0.108 & 1.114 & 0.080 & -0.048 & 0.264 & 0.953 & 1.302 & 0.000 & 1.354 & 0.176 & 2.509 \\\\\n & LEUKOCYTES & -0.000 & 1.000 & 0.000 & -0.000 & -0.000 & 1.000 & 1.000 & 0.000 & -2.652 & 0.008 & 6.967 \\\\\n & THROMBOCYTES & 0.000 & 1.000 & 0.000 & 0.000 & 0.000 & 1.000 & 1.000 & 0.000 & 4.076 & 0.000 & 14.412 \\\\\n & Intercept & 0.375 & 1.455 & 0.528 & -0.660 & 1.410 & 0.517 & 4.097 & 0.000 & 0.710 & 0.477 & 1.066 \\\\\nrho_ & Intercept & 0.487 & 1.628 & 0.043 & 0.403 & 0.572 & 1.496 & 1.771 & 0.000 & 11.328 & 0.000 & 96.407 \\\\\n\\end{tabular}\n"
          },
          "metadata": {}
        }
      ],
      "source": [
        "from lifelines import WeibullAFTFitter\n",
        "weibull_aft = WeibullAFTFitter()\n",
        "weibull_aft.fit(data, duration_col='SURVIVAL TIME')\n",
        "\n",
        "weibull_aft.print_summary(3)"
      ]
    },
    {
      "cell_type": "markdown",
      "metadata": {
        "id": "VL8pYF8d34pB"
      },
      "source": [
        "## Interpretation of the coefficients"
      ]
    },
    {
      "cell_type": "markdown",
      "metadata": {
        "id": "lGnD5j9434pB"
      },
      "source": [
        "* A unit increase in $x_i$ means the average/median survival time changes by a factor of $exp(b_i)$.\n",
        "* Suppose $b_i$ was positive, then the factor $exp(b_i)$ is greater than 1, which will decelerate the event time since we divide time by the factor ⇿ increase mean/median survival. Hence, it will be a protective effect.\n",
        "* Likewise, a negative $b_i$ will hasten the event time ⇿ reduce the mean/median survival time.\n",
        "* This interpretation is opposite of how the sign influences event times in the Cox model!"
      ]
    },
    {
      "cell_type": "markdown",
      "metadata": {
        "id": "Q20YGpAK34pC"
      },
      "source": [
        "## Example\n",
        "\n",
        "* Sex, which contains [0: Male and 1: Female], has a positive coefficient.\n",
        "* This means being a female subject compared to male changes mean/median survival time by exp(0.416) = 1.516,  approximately a 52% increase in mean/median survival time."
      ]
    },
    {
      "cell_type": "code",
      "execution_count": 32,
      "metadata": {
        "ExecuteTime": {
          "end_time": "2021-10-15T19:33:11.342799Z",
          "start_time": "2021-10-15T19:33:11.316867Z"
        },
        "colab": {
          "base_uri": "https://localhost:8080/"
        },
        "id": "c40JGM2q34pD",
        "outputId": "618cc65d-6d90-4ece-9c62-bdbd50c09252"
      },
      "outputs": [
        {
          "output_type": "stream",
          "name": "stdout",
          "text": [
            "3.105032670687812\n",
            "3.481327058796286\n"
          ]
        }
      ],
      "source": [
        "print(weibull_aft.median_survival_time_)\n",
        "print(weibull_aft.mean_survival_time_)"
      ]
    },
    {
      "cell_type": "code",
      "execution_count": 33,
      "metadata": {
        "ExecuteTime": {
          "end_time": "2021-10-15T19:33:21.201719Z",
          "start_time": "2021-10-15T19:33:20.998264Z"
        },
        "colab": {
          "base_uri": "https://localhost:8080/",
          "height": 559
        },
        "id": "1-IcMfKt34pE",
        "outputId": "bdc152f3-b15d-459e-84a3-2107569f4456"
      },
      "outputs": [
        {
          "output_type": "execute_result",
          "data": {
            "text/plain": [
              "<Axes: xlabel='log(accelerated failure rate) (95% CI)'>"
            ]
          },
          "metadata": {},
          "execution_count": 33
        },
        {
          "output_type": "display_data",
          "data": {
            "text/plain": [
              "<Figure size 1000x600 with 1 Axes>"
            ],
            "image/png": "[encoded data removed]"
          },
          "metadata": {}
        }
      ],
      "source": [
        "plt.subplots(figsize=(10, 6))\n",
        "weibull_aft.plot()"
      ]
    },
    {
      "cell_type": "code",
      "execution_count": 37,
      "metadata": {
        "ExecuteTime": {
          "end_time": "2021-10-15T19:33:45.876341Z",
          "start_time": "2021-10-15T19:33:45.652833Z"
        },
        "colab": {
          "base_uri": "https://localhost:8080/",
          "height": 539
        },
        "id": "HMnHZiMk34pT",
        "outputId": "5d0df1ee-cae3-48ef-ab1c-844565c2acf6"
      },
      "outputs": [
        {
          "output_type": "execute_result",
          "data": {
            "text/plain": [
              "<Axes: >"
            ]
          },
          "metadata": {},
          "execution_count": 37
        },
        {
          "output_type": "display_data",
          "data": {
            "text/plain": [
              "<Figure size 1000x600 with 1 Axes>"
            ],
            "image/png": "[encoded data removed]"
          },
          "metadata": {}
        }
      ],
      "source": [
        "plt.subplots(figsize=(10, 6))\n",
        "weibull_aft.plot_partial_effects_on_outcome('AGE', range(0, 40, 10), cmap='coolwarm')"
      ]
    }
  ],
  "metadata": {
    "interpreter": {
      "hash": "e4577f84b0cc49b377bbdd3aebc762ca13cae746c03033f4382fe532931f9c94"
    },
    "kernelspec": {
      "display_name": "Python 3.8.11 64-bit ('datascience': conda)",
      "name": "python3"
    },
    "language_info": {
      "codemirror_mode": {
        "name": "ipython",
        "version": 3
      },
      "file_extension": ".py",
      "mimetype": "text/x-python",
      "name": "python",
      "nbconvert_exporter": "python",
      "pygments_lexer": "ipython3",
      "version": "3.8.11"
    },
    "varInspector": {
      "cols": {
        "lenName": 16,
        "lenType": 16,
        "lenVar": 40
      },
      "kernels_config": {
        "python": {
          "delete_cmd_postfix": "",
          "delete_cmd_prefix": "del ",
          "library": "var_list.py",
          "varRefreshCmd": "print(var_dic_list())"
        },
        "r": {
          "delete_cmd_postfix": ") ",
          "delete_cmd_prefix": "rm(",
          "library": "var_list.r",
          "varRefreshCmd": "cat(var_dic_list()) "
        }
      },
      "types_to_exclude": [
        "module",
        "function",
        "builtin_function_or_method",
        "instance",
        "_Feature"
      ],
      "window_display": false
    },
    "colab": {
      "provenance": []
    }
  },
  "nbformat": 4,
  "nbformat_minor": 0
}