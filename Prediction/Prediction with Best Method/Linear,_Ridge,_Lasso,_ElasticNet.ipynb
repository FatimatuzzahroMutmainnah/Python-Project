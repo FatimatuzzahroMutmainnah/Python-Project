{
  "nbformat": 4,
  "nbformat_minor": 0,
  "metadata": {
    "colab": {
      "provenance": []
    },
    "kernelspec": {
      "name": "python3",
      "display_name": "Python 3"
    },
    "language_info": {
      "name": "python"
    }
  },
  "cells": [
    {
      "cell_type": "code",
      "source": [
        "from google.colab import drive\n",
        "drive.mount('/content/drive')"
      ],
      "metadata": {
        "colab": {
          "base_uri": "https://localhost:8080/"
        },
        "id": "4OuJMFazrIPU",
        "outputId": "d05bedc3-b655-410e-b307-c246539cfa75"
      },
      "execution_count": 1,
      "outputs": [
        {
          "output_type": "stream",
          "name": "stdout",
          "text": [
            "Mounted at /content/drive\n"
          ]
        }
      ]
    },
    {
      "cell_type": "code",
      "execution_count": null,
      "metadata": {
        "id": "c823VSl4CKYq"
      },
      "outputs": [],
      "source": [
        "from sklearn.linear_model import LinearRegression, Ridge, Lasso, ElasticNet #untuk buat prediksi dengan berbagai model\n",
        "from sklearn.preprocessing import PolynomialFeatures\n",
        "from sklearn.pipeline import make_pipeline"
      ]
    },
    {
      "cell_type": "code",
      "source": [
        "#Training Model\n",
        "modelA = LinearRegression()\n",
        "modelB = Ridge()\n",
        "modelC = Lasso()\n",
        "modelD = ElasticNet()"
      ],
      "metadata": {
        "id": "KjpeDoi9CWMt"
      },
      "execution_count": null,
      "outputs": []
    },
    {
      "cell_type": "code",
      "source": [
        "import pandas as pd\n",
        "import numpy as np\n",
        "import matplotlib.pyplot as plt\n",
        "import seaborn as sns\n",
        "\n",
        "from sklearn.model_selection import train_test_split #untuk splitting data\n",
        "from sklearn.linear_model import LinearRegression #untuk buat prediksi linearRegression\n",
        "from sklearn import metrics #untuk mengukur performa model\n",
        "\n",
        "%matplotlib inline\n",
        "dataset = pd.read_csv(r'/content/drive/MyDrive/Bahan port/Prediksi/Admission/Admission_Predict.csv')\n",
        "#Splitting x dan y\n",
        "X = dataset[['GRE Score', 'TOEFL Score', 'University Rating', 'SOP', 'LOR ', 'CGPA', 'Research']].values\n",
        "y = dataset[['Chance of Admit ']].values\n",
        "#splitting training dan testing\n",
        "X_train, X_test, y_train, y_test = train_test_split(X, y, test_size=0.2, random_state=0)"
      ],
      "metadata": {
        "id": "JjqW1IlbChGg"
      },
      "execution_count": null,
      "outputs": []
    },
    {
      "cell_type": "code",
      "source": [
        "modelA.fit(X_train, y_train)\n",
        "modelB.fit(X_train, y_train)\n",
        "modelC.fit(X_train, y_train)\n",
        "modelD.fit(X_train, y_train)\n",
        "\n",
        "polyReg = make_pipeline(\n",
        "    PolynomialFeatures(2, include_bias=False),\n",
        "    LinearRegression()\n",
        ")\n",
        "polyReg.fit(X_train, y_train)"
      ],
      "metadata": {
        "colab": {
          "base_uri": "https://localhost:8080/",
          "height": 168
        },
        "id": "ec8vhwLqCZkJ",
        "outputId": "01233598-d6a3-42b6-fd85-37c3d10830de"
      },
      "execution_count": null,
      "outputs": [
        {
          "output_type": "execute_result",
          "data": {
            "text/plain": [
              "Pipeline(steps=[('polynomialfeatures', PolynomialFeatures(include_bias=False)),\n",
              "                ('linearregression', LinearRegression())])"
            ],
            "text/html": [
              "<style>#sk-container-id-1 {color: black;background-color: white;}#sk-container-id-1 pre{padding: 0;}#sk-container-id-1 div.sk-toggleable {background-color: white;}#sk-container-id-1 label.sk-toggleable__label {cursor: pointer;display: block;width: 100%;margin-bottom: 0;padding: 0.3em;box-sizing: border-box;text-align: center;}#sk-container-id-1 label.sk-toggleable__label-arrow:before {content: \"▸\";float: left;margin-right: 0.25em;color: #696969;}#sk-container-id-1 label.sk-toggleable__label-arrow:hover:before {color: black;}#sk-container-id-1 div.sk-estimator:hover label.sk-toggleable__label-arrow:before {color: black;}#sk-container-id-1 div.sk-toggleable__content {max-height: 0;max-width: 0;overflow: hidden;text-align: left;background-color: #f0f8ff;}#sk-container-id-1 div.sk-toggleable__content pre {margin: 0.2em;color: black;border-radius: 0.25em;background-color: #f0f8ff;}#sk-container-id-1 input.sk-toggleable__control:checked~div.sk-toggleable__content {max-height: 200px;max-width: 100%;overflow: auto;}#sk-container-id-1 input.sk-toggleable__control:checked~label.sk-toggleable__label-arrow:before {content: \"▾\";}#sk-container-id-1 div.sk-estimator input.sk-toggleable__control:checked~label.sk-toggleable__label {background-color: #d4ebff;}#sk-container-id-1 div.sk-label input.sk-toggleable__control:checked~label.sk-toggleable__label {background-color: #d4ebff;}#sk-container-id-1 input.sk-hidden--visually {border: 0;clip: rect(1px 1px 1px 1px);clip: rect(1px, 1px, 1px, 1px);height: 1px;margin: -1px;overflow: hidden;padding: 0;position: absolute;width: 1px;}#sk-container-id-1 div.sk-estimator {font-family: monospace;background-color: #f0f8ff;border: 1px dotted black;border-radius: 0.25em;box-sizing: border-box;margin-bottom: 0.5em;}#sk-container-id-1 div.sk-estimator:hover {background-color: #d4ebff;}#sk-container-id-1 div.sk-parallel-item::after {content: \"\";width: 100%;border-bottom: 1px solid gray;flex-grow: 1;}#sk-container-id-1 div.sk-label:hover label.sk-toggleable__label {background-color: #d4ebff;}#sk-container-id-1 div.sk-serial::before {content: \"\";position: absolute;border-left: 1px solid gray;box-sizing: border-box;top: 0;bottom: 0;left: 50%;z-index: 0;}#sk-container-id-1 div.sk-serial {display: flex;flex-direction: column;align-items: center;background-color: white;padding-right: 0.2em;padding-left: 0.2em;position: relative;}#sk-container-id-1 div.sk-item {position: relative;z-index: 1;}#sk-container-id-1 div.sk-parallel {display: flex;align-items: stretch;justify-content: center;background-color: white;position: relative;}#sk-container-id-1 div.sk-item::before, #sk-container-id-1 div.sk-parallel-item::before {content: \"\";position: absolute;border-left: 1px solid gray;box-sizing: border-box;top: 0;bottom: 0;left: 50%;z-index: -1;}#sk-container-id-1 div.sk-parallel-item {display: flex;flex-direction: column;z-index: 1;position: relative;background-color: white;}#sk-container-id-1 div.sk-parallel-item:first-child::after {align-self: flex-end;width: 50%;}#sk-container-id-1 div.sk-parallel-item:last-child::after {align-self: flex-start;width: 50%;}#sk-container-id-1 div.sk-parallel-item:only-child::after {width: 0;}#sk-container-id-1 div.sk-dashed-wrapped {border: 1px dashed gray;margin: 0 0.4em 0.5em 0.4em;box-sizing: border-box;padding-bottom: 0.4em;background-color: white;}#sk-container-id-1 div.sk-label label {font-family: monospace;font-weight: bold;display: inline-block;line-height: 1.2em;}#sk-container-id-1 div.sk-label-container {text-align: center;}#sk-container-id-1 div.sk-container {/* jupyter's `normalize.less` sets `[hidden] { display: none; }` but bootstrap.min.css set `[hidden] { display: none !important; }` so we also need the `!important` here to be able to override the default hidden behavior on the sphinx rendered scikit-learn.org. See: https://github.com/scikit-learn/scikit-learn/issues/21755 */display: inline-block !important;position: relative;}#sk-container-id-1 div.sk-text-repr-fallback {display: none;}</style><div id=\"sk-container-id-1\" class=\"sk-top-container\"><div class=\"sk-text-repr-fallback\"><pre>Pipeline(steps=[(&#x27;polynomialfeatures&#x27;, PolynomialFeatures(include_bias=False)),\n",
              "                (&#x27;linearregression&#x27;, LinearRegression())])</pre><b>In a Jupyter environment, please rerun this cell to show the HTML representation or trust the notebook. <br />On GitHub, the HTML representation is unable to render, please try loading this page with nbviewer.org.</b></div><div class=\"sk-container\" hidden><div class=\"sk-item sk-dashed-wrapped\"><div class=\"sk-label-container\"><div class=\"sk-label sk-toggleable\"><input class=\"sk-toggleable__control sk-hidden--visually\" id=\"sk-estimator-id-1\" type=\"checkbox\" ><label for=\"sk-estimator-id-1\" class=\"sk-toggleable__label sk-toggleable__label-arrow\">Pipeline</label><div class=\"sk-toggleable__content\"><pre>Pipeline(steps=[(&#x27;polynomialfeatures&#x27;, PolynomialFeatures(include_bias=False)),\n",
              "                (&#x27;linearregression&#x27;, LinearRegression())])</pre></div></div></div><div class=\"sk-serial\"><div class=\"sk-item\"><div class=\"sk-estimator sk-toggleable\"><input class=\"sk-toggleable__control sk-hidden--visually\" id=\"sk-estimator-id-2\" type=\"checkbox\" ><label for=\"sk-estimator-id-2\" class=\"sk-toggleable__label sk-toggleable__label-arrow\">PolynomialFeatures</label><div class=\"sk-toggleable__content\"><pre>PolynomialFeatures(include_bias=False)</pre></div></div></div><div class=\"sk-item\"><div class=\"sk-estimator sk-toggleable\"><input class=\"sk-toggleable__control sk-hidden--visually\" id=\"sk-estimator-id-3\" type=\"checkbox\" ><label for=\"sk-estimator-id-3\" class=\"sk-toggleable__label sk-toggleable__label-arrow\">LinearRegression</label><div class=\"sk-toggleable__content\"><pre>LinearRegression()</pre></div></div></div></div></div></div></div>"
            ]
          },
          "metadata": {},
          "execution_count": 9
        }
      ]
    },
    {
      "cell_type": "code",
      "source": [
        "y_pred_E = polyReg.predict(X_test)\n",
        "y_pred_A = modelA.predict(X_test)\n",
        "y_pred_B = modelB.predict(X_test)\n",
        "y_pred_C = modelC.predict(X_test)\n",
        "y_pred_D = modelD.predict(X_test)"
      ],
      "metadata": {
        "id": "CvnpvqR5CeKA"
      },
      "execution_count": null,
      "outputs": []
    },
    {
      "cell_type": "code",
      "source": [
        "print('Mean Absolute Error(MAE): ', metrics.mean_absolute_error(y_test, y_pred_B))\n",
        "print('Mean Squared Error(MSE): ', metrics.mean_squared_error(y_test, y_pred_B))\n",
        "print('Root Mean Squared Error(RMSE): ', np.sqrt(metrics.mean_squared_error(y_test, y_pred_B)))\n",
        "print('R2 Score:', round(metrics.r2_score(y_test, y_pred_B), 2))"
      ],
      "metadata": {
        "colab": {
          "base_uri": "https://localhost:8080/"
        },
        "id": "PrlZB3w0D-p0",
        "outputId": "4057297d-7a5f-4ad8-d668-b30d4091dc6e"
      },
      "execution_count": null,
      "outputs": [
        {
          "output_type": "stream",
          "name": "stdout",
          "text": [
            "Mean Absolute Error(MAE):  0.04989015875838179\n",
            "Mean Squared Error(MSE):  0.004786649739524087\n",
            "Root Mean Squared Error(RMSE):  0.0691856180107115\n",
            "R2 Score: 0.74\n"
          ]
        }
      ]
    },
    {
      "cell_type": "code",
      "source": [
        "print('Mean Absolute Error(MAE): ', metrics.mean_absolute_error(y_test, y_pred_C))\n",
        "print('Mean Squared Error(MSE): ', metrics.mean_squared_error(y_test, y_pred_C))\n",
        "print('Root Mean Squared Error(RMSE): ', np.sqrt(metrics.mean_squared_error(y_test, y_pred_C)))\n",
        "print('R2 Score:', round(metrics.r2_score(y_test, y_pred_C), 2))"
      ],
      "metadata": {
        "colab": {
          "base_uri": "https://localhost:8080/"
        },
        "id": "JuXn6bMREx1c",
        "outputId": "2161cba1-7dd8-4633-bca2-aa7d1e5dd455"
      },
      "execution_count": null,
      "outputs": [
        {
          "output_type": "stream",
          "name": "stdout",
          "text": [
            "Mean Absolute Error(MAE):  0.08890103672036656\n",
            "Mean Squared Error(MSE):  0.013260131734295102\n",
            "Root Mean Squared Error(RMSE):  0.11515264536386084\n",
            "R2 Score: 0.27\n"
          ]
        }
      ]
    },
    {
      "cell_type": "code",
      "source": [
        "print('Mean Absolute Error(MAE): ', metrics.mean_absolute_error(y_test, y_pred_E))\n",
        "print('Mean Squared Error(MSE): ', metrics.mean_squared_error(y_test, y_pred_E))\n",
        "print('Root Mean Squared Error(RMSE): ', np.sqrt(metrics.mean_squared_error(y_test, y_pred_E)))\n",
        "print('R2 Score:', round(metrics.r2_score(y_test, y_pred_E), 2))"
      ],
      "metadata": {
        "colab": {
          "base_uri": "https://localhost:8080/"
        },
        "id": "QzYG7zE-E_P_",
        "outputId": "f7f53e54-5601-4b1a-97c9-2542dae4fc28"
      },
      "execution_count": null,
      "outputs": [
        {
          "output_type": "stream",
          "name": "stdout",
          "text": [
            "Mean Absolute Error(MAE):  0.051533420884176964\n",
            "Mean Squared Error(MSE):  0.005288720166817461\n",
            "Root Mean Squared Error(RMSE):  0.07272358741713353\n",
            "R2 Score: 0.71\n"
          ]
        }
      ]
    },
    {
      "cell_type": "code",
      "source": [
        "print('Mean Absolute Error(MAE): ', metrics.mean_absolute_error(y_test, y_pred_D))\n",
        "print('Mean Squared Error(MSE): ', metrics.mean_squared_error(y_test, y_pred_D))\n",
        "print('Root Mean Squared Error(RMSE): ', np.sqrt(metrics.mean_squared_error(y_test, y_pred_D)))\n",
        "print('R2 Score:', round(metrics.r2_score(y_test, y_pred_D), 2))"
      ],
      "metadata": {
        "colab": {
          "base_uri": "https://localhost:8080/"
        },
        "id": "5nWwJP-IE5Ya",
        "outputId": "3ad461c7-5cb4-4f64-8255-f0b6e629cab5"
      },
      "execution_count": null,
      "outputs": [
        {
          "output_type": "stream",
          "name": "stdout",
          "text": [
            "Mean Absolute Error(MAE):  0.07170438610018415\n",
            "Mean Squared Error(MSE):  0.009163075147276791\n",
            "Root Mean Squared Error(RMSE):  0.0957239528398028\n",
            "R2 Score: 0.5\n"
          ]
        }
      ]
    },
    {
      "cell_type": "code",
      "source": [
        "print('Mean Absolute Error(MAE): ', metrics.mean_absolute_error(y_test, y_pred_A))\n",
        "print('Mean Squared Error(MSE): ', metrics.mean_squared_error(y_test, y_pred_A))\n",
        "print('Root Mean Squared Error(RMSE): ', np.sqrt(metrics.mean_squared_error(y_test, y_pred_A)))\n",
        "print('R2 Score:', round(metrics.r2_score(y_test, y_pred_A), 2))"
      ],
      "metadata": {
        "colab": {
          "base_uri": "https://localhost:8080/"
        },
        "id": "VZjTVtPdDVGQ",
        "outputId": "45769ae2-48e0-404c-9425-4ba91c54f8ef"
      },
      "execution_count": null,
      "outputs": [
        {
          "output_type": "stream",
          "name": "stdout",
          "text": [
            "Mean Absolute Error(MAE):  0.050087548438179565\n",
            "Mean Squared Error(MSE):  0.004805156569785202\n",
            "Root Mean Squared Error(RMSE):  0.0693192366503354\n",
            "R2 Score: 0.74\n"
          ]
        }
      ]
    },
    {
      "cell_type": "markdown",
      "source": [
        "KESIMPULAN : DATA TESEBUT SUDAH MENGIKUTI POLA LINEAR. TIDAK OVERFITTED ATAU UNDERFITTED. KARENA MODEL A YANG LINEAR REGRESSION LEBIH BAGUS DARIPADA YANG POLYNOMIAL DKK."
      ],
      "metadata": {
        "id": "dgqswz0nF-cO"
      }
    }
  ]
}